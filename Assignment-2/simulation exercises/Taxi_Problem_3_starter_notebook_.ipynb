{
  "nbformat": 4,
  "nbformat_minor": 0,
  "metadata": {
    "language_info": {
      "codemirror_mode": {
        "name": "ipython",
        "version": 3
      },
      "file_extension": ".py",
      "mimetype": "text/x-python",
      "name": "python",
      "nbconvert_exporter": "python",
      "pygments_lexer": "ipython3",
      "version": "3.8.8-final"
    },
    "orig_nbformat": 2,
    "kernelspec": {
      "name": "python3",
      "display_name": "Python 3.8.8 64-bit ('torch': conda)",
      "metadata": {
        "interpreter": {
          "hash": "d8957633bcb1ab41d2dfd9b11a55d25ae2b194ad0d644559562952e6e1dd74ed"
        }
      }
    },
    "colab": {
      "name": "Taxi Problem 3 starter notebook .ipynb",
      "provenance": [],
      "collapsed_sections": []
    }
  },
  "cells": [
    {
      "cell_type": "code",
      "metadata": {
        "id": "o5Yu8Gef7Dww"
      },
      "source": [
        ""
      ],
      "execution_count": null,
      "outputs": []
    },
    {
      "cell_type": "markdown",
      "metadata": {
        "id": "WXuhHGatRVNf"
      },
      "source": [
        "# What is the notebook about?\n",
        "\n",
        "## Problem - Taxi Environment Algorithms\n",
        "This problem deals with a taxi environment and stochastic actions. The tasks you have to do are:\n",
        "- Implement Policy Iteration\n",
        "- Visualize the results\n",
        "- Explain the results\n",
        "\n",
        "## How to use this notebook? 📝\n",
        "\n",
        "- This is a shared template and any edits you make here will not be saved.**You\n",
        "should make a copy in your own drive**. Click the \"File\" menu (top-left), then \"Save a Copy in Drive\". You will be working in your copy however you like.\n",
        "\n",
        "- **Update the config parameters**. You can define the common variables here\n",
        "\n",
        "Variable | Description\n",
        "--- | ---\n",
        "`AICROWD_DATASET_PATH` | Path to the file containing test data. This should be an absolute path.\n",
        "`AICROWD_RESULTS_DIR` | Path to write the output to.\n",
        "`AICROWD_ASSETS_DIR` | In case your notebook needs additional files (like model weights, etc.,), you can add them to a directory and specify the path to the directory here (please specify relative path). The contents of this directory will be sent to AIcrowd for evaluation.\n",
        "`AICROWD_API_KEY` | In order to submit your code to AIcrowd, you need to provide your account's API key. This key is available at https://www.aicrowd.com/participants/me\n",
        "\n",
        "- **Installing packages**. Please use the [Install packages 🗃](#install-packages-) section to install the packages"
      ]
    },
    {
      "cell_type": "markdown",
      "metadata": {
        "id": "1gzlHU3wRQRj"
      },
      "source": [
        "# Setup AIcrowd Utilities 🛠\n",
        "\n",
        "We use this to bundle the files for submission and create a submission on AIcrowd. Do not edit this block."
      ]
    },
    {
      "cell_type": "code",
      "metadata": {
        "colab": {
          "base_uri": "https://localhost:8080/"
        },
        "id": "FMKvhbEKiFH5",
        "outputId": "d7f58e45-6acd-4826-d37f-bb58bfa6af1f"
      },
      "source": [
        "!pip install -U aicrowd-cli > /dev/null "
      ],
      "execution_count": null,
      "outputs": [
        {
          "output_type": "stream",
          "name": "stdout",
          "text": [
            "\u001b[31mERROR: pip's dependency resolver does not currently take into account all the packages that are installed. This behaviour is the source of the following dependency conflicts.\n",
            "google-colab 1.0.0 requires requests~=2.23.0, but you have requests 2.26.0 which is incompatible.\n",
            "datascience 0.10.6 requires folium==0.2.1, but you have folium 0.8.3 which is incompatible.\u001b[0m\n"
          ]
        }
      ]
    },
    {
      "cell_type": "markdown",
      "metadata": {
        "id": "oJuQ_nzaRpp6"
      },
      "source": [
        "# AIcrowd Runtime Configuration 🧷\n",
        "\n",
        "Define configuration parameters."
      ]
    },
    {
      "cell_type": "code",
      "metadata": {
        "id": "uBKm1IuliJc7"
      },
      "source": [
        "import os\n",
        "\n",
        "AICROWD_DATASET_PATH = os.getenv(\"DATASET_PATH\", os.getcwd()+\"/407e4f07-d470-427d-8758-4f888ae03fe6_data.zip\")\n",
        "AICROWD_RESULTS_DIR = os.getenv(\"OUTPUTS_DIR\", \"results\")\n",
        "API_KEY = \"\" # Get your key from https://www.aicrowd.com/participants/me (ctrl + click the link)"
      ],
      "execution_count": null,
      "outputs": []
    },
    {
      "cell_type": "code",
      "metadata": {
        "colab": {
          "base_uri": "https://localhost:8080/"
        },
        "id": "RQnfZ7VYidPC",
        "outputId": "71b27196-914e-4ec0-cddc-ecb0255286e3"
      },
      "source": [
        "!aicrowd login --api-key $API_KEY\n",
        "!aicrowd dataset download -c rl-assignment-2-taxi"
      ],
      "execution_count": null,
      "outputs": [
        {
          "output_type": "stream",
          "name": "stdout",
          "text": [
            "\u001b[32mAPI Key valid\u001b[0m\n",
            "\u001b[32mSaved API Key successfully!\u001b[0m\n",
            "407e4f07-d470-427d-8758-4f888ae03fe6_data.zip: 100% 16.8k/16.8k [00:00<00:00, 171kB/s]\n"
          ]
        }
      ]
    },
    {
      "cell_type": "code",
      "metadata": {
        "id": "gm46inU6ABu-"
      },
      "source": [
        "DATASET_DIR = 'data/'\n",
        "!unzip $AICROWD_DATASET_PATH\n"
      ],
      "execution_count": null,
      "outputs": []
    },
    {
      "cell_type": "markdown",
      "metadata": {
        "id": "gTeWFlWukTob"
      },
      "source": [
        "# Install packages 🗃\n",
        "\n",
        "Please add all package installations in this section"
      ]
    },
    {
      "cell_type": "code",
      "metadata": {
        "id": "cusnfjYFRVNm"
      },
      "source": [
        ""
      ],
      "execution_count": null,
      "outputs": []
    },
    {
      "cell_type": "markdown",
      "metadata": {
        "id": "TxdOqsVGRXKg"
      },
      "source": [
        "# Import packages 💻"
      ]
    },
    {
      "cell_type": "code",
      "metadata": {
        "id": "lmhJUSs2Rjvh"
      },
      "source": [
        "import numpy as np\n",
        "import matplotlib.pyplot as plt \n",
        "import os\n",
        "# ADD ANY IMPORTS YOU WANT HERE\n"
      ],
      "execution_count": null,
      "outputs": []
    },
    {
      "cell_type": "markdown",
      "metadata": {
        "id": "mAtLwr59r_WY"
      },
      "source": [
        "# Prediction Phase"
      ]
    },
    {
      "cell_type": "markdown",
      "metadata": {
        "id": "Jng6kaDzPgGi"
      },
      "source": [
        "## Taxi Environment\n",
        "\n",
        "Read the environment to understand the functions, but do not edit anything"
      ]
    },
    {
      "cell_type": "code",
      "metadata": {
        "id": "Wb1Qt7_uiVDp"
      },
      "source": [
        "import numpy as np"
      ],
      "execution_count": null,
      "outputs": []
    },
    {
      "cell_type": "code",
      "metadata": {
        "id": "4rcHuPirPgGj"
      },
      "source": [
        "\n",
        "class TaxiEnv_HW2:\n",
        "    \n",
        "    def __init__(self, states, actions, probabilities, rewards, initial_policy):        \n",
        "        probabilities, rewards = self._build_prob_mapping(states, actions, probabilities,rewards)\n",
        "        self.possible_states = states\n",
        "        self._possible_actions = {st: actions for st in states}\n",
        "        self._ride_probabilities = {st: pr for st, pr in zip(states, probabilities)}\n",
        "        self._ride_rewards = {st: rw for st, rw in zip(states, rewards)}\n",
        "        self.initial_policy = initial_policy\n",
        "        self._verify()\n",
        "\n",
        "    def _build_prob_mapping(self,states, actions, probabilities,rewards):\n",
        "        n_cities = len(states)\n",
        "        n_actions = len(actions)\n",
        "\n",
        "        probs = np.zeros((n_cities, n_actions, n_cities))\n",
        "        \n",
        "        rewards[0] = [0,0,0,0,0,0]    \n",
        "        rews = np.zeros((n_cities, n_actions, n_cities))\n",
        "\n",
        "        for src in range(n_cities):\n",
        "          for action in ('1', '2'):\n",
        "              for c, prob in probabilities[action].items():\n",
        "                  dst = (src+c) % n_cities\n",
        "                  probs[src][actions.index(action)][dst] = prob\n",
        "                  rews[src][actions.index(action)][dst] = rewards[c][src]\n",
        "          action = '3'\n",
        "          action = actions.index(action)\n",
        "          probs[src][action][0] = 1\n",
        "        return probs, rews\n",
        "\n",
        "    def _check_state(self, state):\n",
        "        assert state in self.possible_states, \"State %s is not a valid state\" % state\n",
        "\n",
        "    def _verify(self):\n",
        "        \"\"\" \n",
        "        Verify that data conditions are met:\n",
        "        Number of actions matches shape of next state and actions\n",
        "        Every probability distribution adds up to 1 \n",
        "        \"\"\"\n",
        "        ns = len(self.possible_states)\n",
        "        for state in self.possible_states:\n",
        "            ac = self._possible_actions[state]\n",
        "            na = len(ac)\n",
        "            rp = self._ride_probabilities[state]\n",
        "            assert np.all(rp.shape == (na, ns)), \"Probabilities shape mismatch\"\n",
        "        \n",
        "            rr = self._ride_rewards[state]\n",
        "            assert np.all(rr.shape == (na, ns)), \"Rewards shape mismatch\"\n",
        "\n",
        "            assert np.allclose(rp.sum(axis=1), 1), \"Probabilities don't add up to 1\"\n",
        "\n",
        "    def possible_actions(self, state):\n",
        "        \"\"\" Return all possible actions from a given state \"\"\"\n",
        "        self._check_state(state)\n",
        "        return self._possible_actions[state]\n",
        "\n",
        "    def ride_probabilities(self, state, action):\n",
        "        \"\"\" \n",
        "        Returns all possible ride probabilities from a state for a given action\n",
        "        For every action a list with the returned with values in the same order as self.possible_states\n",
        "        \"\"\"\n",
        "        actions = self.possible_actions(state)\n",
        "        ac_idx = actions.index(action)\n",
        "        return self._ride_probabilities[state][ac_idx]\n",
        "\n",
        "    def ride_rewards(self, state, action):\n",
        "        actions = self.possible_actions(state)\n",
        "        ac_idx = actions.index(action)\n",
        "        return self._ride_rewards[state][ac_idx]"
      ],
      "execution_count": null,
      "outputs": []
    },
    {
      "cell_type": "markdown",
      "metadata": {
        "id": "BWa0ut8DPgGk"
      },
      "source": [
        "## Example of Environment usage"
      ]
    },
    {
      "cell_type": "code",
      "metadata": {
        "id": "q1HS9n9nPgGk",
        "colab": {
          "base_uri": "https://localhost:8080/"
        },
        "outputId": "d7f30b82-3b4e-436f-f898-f9ae4fcfc173"
      },
      "source": [
        "import numpy as np \n",
        "\n",
        "def check_taxienv():\n",
        "    # These are the values as used in the assignment document, but they may be changed during submission, so do not hardcode anything\n",
        "\n",
        "    states = [0, 1, 2, 3, 4, 5]\n",
        "\n",
        "    actions = ['1','2','3']\n",
        "\n",
        "    probs = {}\n",
        "    probs['1'] = {-1: 1/2, 0: 1/4, 1: 1/4}\n",
        "    probs['2'] = {-1: 1/16, 0: 3/4, 1: 3/16}\n",
        "\n",
        "    rewards = {}\n",
        "    rewards[-1] = [8,7,3,2,1,2]\n",
        "    rewards[1]  = [8,8,5,1,3,9]\n",
        "\n",
        "    initial_policy = {0:'1', 1:'1', 2:'1', 3:'1', 4:'1', 5:'1'}\n",
        "\n",
        "    ##################################\n",
        "\n",
        "\n",
        "    env = TaxiEnv_HW2(states, actions, probs, rewards, initial_policy)\n",
        "    print(\"All possible states\", env.possible_states)\n",
        "    print(\"All possible actions from state B\", env.possible_actions(1))\n",
        "    print(\"Ride probabilities from state A with action 2\", env.ride_probabilities(2, '2'))\n",
        "    print(\"Ride rewards from state C with action 3\", env.ride_rewards(4, '1'))\n",
        "\n",
        "    base_kwargs = {\"states\": states, \"actions\": actions, \n",
        "                \"probabilities\": probs, \"rewards\": rewards,\n",
        "                \"initial_policy\": initial_policy}\n",
        "    return base_kwargs\n",
        "\n",
        "base_kwargs = check_taxienv()"
      ],
      "execution_count": null,
      "outputs": [
        {
          "output_type": "stream",
          "name": "stdout",
          "text": [
            "All possible states [0, 1, 2, 3, 4, 5]\n",
            "All possible actions from state B ['1', '2', '3']\n",
            "Ride probabilities from state A with action 2 [0.     0.0625 0.75   0.1875 0.     0.    ]\n",
            "Ride rewards from state C with action 3 [0. 0. 0. 1. 0. 3.]\n"
          ]
        }
      ]
    },
    {
      "cell_type": "markdown",
      "metadata": {
        "id": "wpRmtI8CPgGm"
      },
      "source": [
        "## Task - Policy Iteration\n",
        "Run policy iteration on the environment and generate the policy and expected reward"
      ]
    },
    {
      "cell_type": "code",
      "metadata": {
        "tags": [],
        "id": "ErRhgG2bPgGm"
      },
      "source": [
        "# 1.1 Policy Iteration\n",
        "def policy_iteration(taxienv, gamma):\n",
        "    # A list of all the states\n",
        "    states = taxienv.possible_states\n",
        "    # Initial values\n",
        "    values = {s: 0 for s in states}\n",
        "\n",
        "    # This is a dictionary of states to policies -> e.g {'A': '1', 'B': '2', 'C': '1'}\n",
        "    policy = taxienv.initial_policy.copy()\n",
        "\n",
        "    ## Begin code here\n",
        "\n",
        "    # Hints - \n",
        "    # Do not hardcode anything\n",
        "    # Only the final result is required for the results\n",
        "    # Put any extra data in \"extra_info\" dictonary for any plots etc\n",
        "    # Use the helper functions taxienv.ride_rewards, taxienv.ride_probabilities,  taxienv.possible_actions\n",
        "    # For terminating condition use the condition exactly mentioned in the pdf\n",
        "\n",
        "    \n",
        "\n",
        "    # Put your extra information needed for plots etc in this dictionary\n",
        "    extra_info = {}\n",
        "\n",
        "    ## Do not edit below this line\n",
        "\n",
        "    # Final results\n",
        "    return {\"Expected Reward\": values, \"Policy\": policy}, extra_info"
      ],
      "execution_count": null,
      "outputs": []
    },
    {
      "cell_type": "markdown",
      "metadata": {
        "id": "hPxhOlrSioLG"
      },
      "source": [
        "Policy Iteration with different values of gamma\n"
      ]
    },
    {
      "cell_type": "code",
      "metadata": {
        "id": "PrCixx2GPgGn"
      },
      "source": [
        "# 1.2 Policy Iteration with different values of gamma\n",
        "def run_policy_iteration(env):\n",
        "    gamma_values = np.arange(5, 100, 5)/100\n",
        "    results, extra_info = {}, {}\n",
        "    for gamma in gamma_values:\n",
        "        results[gamma], extra_info[gamma] = policy_iteration(env, gamma)\n",
        "    return results, extra_info"
      ],
      "execution_count": null,
      "outputs": []
    },
    {
      "cell_type": "code",
      "metadata": {
        "id": "t5CtLixrPgGq"
      },
      "source": [
        "# Do not edit this cell\n",
        "def get_results(kwargs):\n",
        "\n",
        "    taxienv = TaxiEnv_HW2(**kwargs)\n",
        "\n",
        "    policy_iteration_results = run_policy_iteration(taxienv)[0]\n",
        "\n",
        "    final_results = {}\n",
        "    final_results[\"policy_iteration\"] = policy_iteration_results\n",
        "\n",
        "    return final_results"
      ],
      "execution_count": null,
      "outputs": []
    },
    {
      "cell_type": "code",
      "metadata": {
        "id": "5qllAY5ksSzW",
        "colab": {
          "base_uri": "https://localhost:8080/"
        },
        "outputId": "97cf815b-17f6-4ab2-c7bf-ae979c4f8094"
      },
      "source": [
        "get_results(base_kwargs)"
      ],
      "execution_count": null,
      "outputs": [
        {
          "output_type": "execute_result",
          "data": {
            "text/plain": [
              "{'policy_iteration': {0.05: {'Expected Reward': {0: 0,\n",
              "    1: 0,\n",
              "    2: 0,\n",
              "    3: 0,\n",
              "    4: 0,\n",
              "    5: 0},\n",
              "   'Policy': {0: '1', 1: '1', 2: '1', 3: '1', 4: '1', 5: '1'}},\n",
              "  0.1: {'Expected Reward': {0: 0, 1: 0, 2: 0, 3: 0, 4: 0, 5: 0},\n",
              "   'Policy': {0: '1', 1: '1', 2: '1', 3: '1', 4: '1', 5: '1'}},\n",
              "  0.15: {'Expected Reward': {0: 0, 1: 0, 2: 0, 3: 0, 4: 0, 5: 0},\n",
              "   'Policy': {0: '1', 1: '1', 2: '1', 3: '1', 4: '1', 5: '1'}},\n",
              "  0.2: {'Expected Reward': {0: 0, 1: 0, 2: 0, 3: 0, 4: 0, 5: 0},\n",
              "   'Policy': {0: '1', 1: '1', 2: '1', 3: '1', 4: '1', 5: '1'}},\n",
              "  0.25: {'Expected Reward': {0: 0, 1: 0, 2: 0, 3: 0, 4: 0, 5: 0},\n",
              "   'Policy': {0: '1', 1: '1', 2: '1', 3: '1', 4: '1', 5: '1'}},\n",
              "  0.3: {'Expected Reward': {0: 0, 1: 0, 2: 0, 3: 0, 4: 0, 5: 0},\n",
              "   'Policy': {0: '1', 1: '1', 2: '1', 3: '1', 4: '1', 5: '1'}},\n",
              "  0.35: {'Expected Reward': {0: 0, 1: 0, 2: 0, 3: 0, 4: 0, 5: 0},\n",
              "   'Policy': {0: '1', 1: '1', 2: '1', 3: '1', 4: '1', 5: '1'}},\n",
              "  0.4: {'Expected Reward': {0: 0, 1: 0, 2: 0, 3: 0, 4: 0, 5: 0},\n",
              "   'Policy': {0: '1', 1: '1', 2: '1', 3: '1', 4: '1', 5: '1'}},\n",
              "  0.45: {'Expected Reward': {0: 0, 1: 0, 2: 0, 3: 0, 4: 0, 5: 0},\n",
              "   'Policy': {0: '1', 1: '1', 2: '1', 3: '1', 4: '1', 5: '1'}},\n",
              "  0.5: {'Expected Reward': {0: 0, 1: 0, 2: 0, 3: 0, 4: 0, 5: 0},\n",
              "   'Policy': {0: '1', 1: '1', 2: '1', 3: '1', 4: '1', 5: '1'}},\n",
              "  0.55: {'Expected Reward': {0: 0, 1: 0, 2: 0, 3: 0, 4: 0, 5: 0},\n",
              "   'Policy': {0: '1', 1: '1', 2: '1', 3: '1', 4: '1', 5: '1'}},\n",
              "  0.6: {'Expected Reward': {0: 0, 1: 0, 2: 0, 3: 0, 4: 0, 5: 0},\n",
              "   'Policy': {0: '1', 1: '1', 2: '1', 3: '1', 4: '1', 5: '1'}},\n",
              "  0.65: {'Expected Reward': {0: 0, 1: 0, 2: 0, 3: 0, 4: 0, 5: 0},\n",
              "   'Policy': {0: '1', 1: '1', 2: '1', 3: '1', 4: '1', 5: '1'}},\n",
              "  0.7: {'Expected Reward': {0: 0, 1: 0, 2: 0, 3: 0, 4: 0, 5: 0},\n",
              "   'Policy': {0: '1', 1: '1', 2: '1', 3: '1', 4: '1', 5: '1'}},\n",
              "  0.75: {'Expected Reward': {0: 0, 1: 0, 2: 0, 3: 0, 4: 0, 5: 0},\n",
              "   'Policy': {0: '1', 1: '1', 2: '1', 3: '1', 4: '1', 5: '1'}},\n",
              "  0.8: {'Expected Reward': {0: 0, 1: 0, 2: 0, 3: 0, 4: 0, 5: 0},\n",
              "   'Policy': {0: '1', 1: '1', 2: '1', 3: '1', 4: '1', 5: '1'}},\n",
              "  0.85: {'Expected Reward': {0: 0, 1: 0, 2: 0, 3: 0, 4: 0, 5: 0},\n",
              "   'Policy': {0: '1', 1: '1', 2: '1', 3: '1', 4: '1', 5: '1'}},\n",
              "  0.9: {'Expected Reward': {0: 0, 1: 0, 2: 0, 3: 0, 4: 0, 5: 0},\n",
              "   'Policy': {0: '1', 1: '1', 2: '1', 3: '1', 4: '1', 5: '1'}},\n",
              "  0.95: {'Expected Reward': {0: 0, 1: 0, 2: 0, 3: 0, 4: 0, 5: 0},\n",
              "   'Policy': {0: '1', 1: '1', 2: '1', 3: '1', 4: '1', 5: '1'}}}}"
            ]
          },
          "metadata": {},
          "execution_count": 15
        }
      ]
    },
    {
      "cell_type": "code",
      "metadata": {
        "id": "jXjUPMgUzUfk"
      },
      "source": [
        "if not os.path.exists(AICROWD_RESULTS_DIR):\n",
        "  os.mkdir(AICROWD_RESULTS_DIR)\n",
        "if not os.path.exists(DATASET_DIR+'/inputs'):\n",
        "  os.mkdir(DATASET_DIR+'/inputs')"
      ],
      "execution_count": null,
      "outputs": []
    },
    {
      "cell_type": "code",
      "metadata": {
        "id": "tW-E9huAPgGs",
        "colab": {
          "base_uri": "https://localhost:8080/"
        },
        "outputId": "17e94830-c391-41a8-c8b3-54723e6e87ad"
      },
      "source": [
        "# Do not edit this cell, generate results with it as is\n",
        "\n",
        "input_dir = os.path.join(DATASET_DIR, 'inputs')\n",
        "\n",
        "if not os.path.exists(AICROWD_RESULTS_DIR):\n",
        "    os.mkdir(AICROWD_RESULTS_DIR)\n",
        "\n",
        "for params_file in os.listdir(input_dir):\n",
        "  kwargs = np.load(os.path.join(input_dir, params_file), allow_pickle=True).item()\n",
        "  print(kwargs)\n",
        "  results = get_results(kwargs)\n",
        "  idx = params_file.split('_')[-1][:-4]\n",
        "  np.save(os.path.join(AICROWD_RESULTS_DIR, 'results_' + idx), results)"
      ],
      "execution_count": null,
      "outputs": [
        {
          "output_type": "stream",
          "name": "stdout",
          "text": [
            "{'states': [0, 1, 2, 3, 4, 5], 'actions': ['1', '2', '3'], 'probabilities': {'1': {-1: 0.5, 0: 0.25, 1: 0.25}, '2': {-1: 0.0625, 0: 0.75, 1: 0.1875}}, 'rewards': {-1: [8, 7, 3, 2, 1, 2], 1: [8, 8, 5, 1, 3, 9], 0: [0, 0, 0, 0, 0, 0]}, 'initial_policy': {0: '1', 1: '1', 2: '1', 3: '1', 4: '1', 5: '1'}}\n",
            "{'states': [0, 1, 2, 3, 4], 'actions': ['1', '2', '3'], 'probabilities': {'1': {-1: 0.013212886953789417, 0: 0.265387928772242, 1: 0.7213991842739688}, '2': {-1: 0.013212886953789417, 0: 0.265387928772242, 1: 0.7213991842739688}}, 'rewards': {-1: [4, 4, 2, 7, 2], 1: [3, 4, 3, 5, 4], 0: [0, 0, 0, 0, 0, 0]}, 'initial_policy': {0: '1', 1: '1', 2: '1', 3: '1', 4: '1'}}\n",
            "{'states': [0, 1, 2, 3], 'actions': ['1', '2', '3'], 'probabilities': {'1': {-1: 0.6652409557748217, 0: 0.24472847105479759, 1: 0.09003057317038043}, '2': {-1: 0.6652409557748217, 0: 0.24472847105479759, 1: 0.09003057317038043}}, 'rewards': {-1: [7, 3, 7, 3], 1: [2, 6, 7, 6], 0: [0, 0, 0, 0, 0, 0]}, 'initial_policy': {0: '1', 1: '1', 2: '1', 3: '1'}}\n",
            "{'states': [0, 1, 2, 3, 4], 'actions': ['1', '2', '3'], 'probabilities': {'1': {-1: 0.8668133321973345, 0: 0.01587623997646676, 1: 0.1173104278261983}, '2': {-1: 0.8668133321973345, 0: 0.01587623997646676, 1: 0.1173104278261983}}, 'rewards': {-1: [6, 4, 7, 4, 4], 1: [7, 5, 5, 2, 4], 0: [0, 0, 0, 0, 0, 0]}, 'initial_policy': {0: '1', 1: '1', 2: '1', 3: '1', 4: '1'}}\n"
          ]
        }
      ]
    },
    {
      "cell_type": "code",
      "metadata": {
        "id": "ctaIoyEQPgGt",
        "colab": {
          "base_uri": "https://localhost:8080/"
        },
        "outputId": "1186d6a7-b3d5-46ba-c487-f8e31383dfd3"
      },
      "source": [
        "# Check your score on the given test cases (There are more private test cases not provided)\n",
        "result_folder = AICROWD_RESULTS_DIR\n",
        "target_folder = os.path.join(DATASET_DIR, 'targets')\n",
        "\n",
        "def check_algo_match(results, targets):\n",
        "    param_matches = []\n",
        "    for k in results:\n",
        "        param_results = results[k]\n",
        "        param_targets = targets[k]\n",
        "        policy_match = param_results['Policy'] == param_targets['Policy']\n",
        "        rv = [v for k, v in param_results['Expected Reward'].items()]\n",
        "        tv = [v for k, v in param_targets['Expected Reward'].items()]\n",
        "        rewards_match = np.allclose(rv, tv, atol=1e-1)\n",
        "        equal = rewards_match and policy_match\n",
        "        param_matches.append(equal)\n",
        "    return np.mean(param_matches)\n",
        "\n",
        "def check_score(target_folder, result_folder):\n",
        "    match = []\n",
        "    for out_file in os.listdir(result_folder):\n",
        "        res_file = os.path.join(result_folder, out_file)\n",
        "        results = np.load(res_file, allow_pickle=True).item()\n",
        "        idx = out_file.split('_')[-1][:-4]  # Extract the file number\n",
        "        target_file = os.path.join(target_folder, f\"targets_{idx}.npy\")\n",
        "        targets = np.load(target_file, allow_pickle=True).item()\n",
        "        algo_match = []\n",
        "        for k in targets:\n",
        "            algo_results = results[k]\n",
        "            algo_targets = targets[k]\n",
        "            algo_match.append(check_algo_match(algo_results, algo_targets))\n",
        "        match.append(np.mean(algo_match))\n",
        "    return np.mean(match)\n",
        "\n",
        "if os.path.exists(target_folder):\n",
        "    print(\"Shared data Score (normalized to 1):\", check_score(target_folder, result_folder))"
      ],
      "execution_count": null,
      "outputs": [
        {
          "output_type": "stream",
          "name": "stdout",
          "text": [
            "Shared data Score (normalized to 1): 0.8157894736842105\n"
          ]
        }
      ]
    },
    {
      "cell_type": "markdown",
      "metadata": {
        "id": "b4ez7fj0nr6O"
      },
      "source": [
        "## Answer the following"
      ]
    },
    {
      "cell_type": "markdown",
      "metadata": {
        "id": "9GWQfdNJnwhs"
      },
      "source": [
        "1. How is different values of γ affecting the policy iteration from 1.2? Explain your findings"
      ]
    },
    {
      "cell_type": "markdown",
      "metadata": {
        "id": "wZM3OMBYnys3"
      },
      "source": [
        "\n",
        "\n",
        "Your Answer:\n"
      ]
    },
    {
      "cell_type": "markdown",
      "metadata": {
        "id": "SgGX7U8Mn4B5"
      },
      "source": [
        "2. Give alternate transition probabilities for action 2(if exists) such that optimal policy consists of action 2. Explain your answer"
      ]
    },
    {
      "cell_type": "markdown",
      "metadata": {
        "id": "Amc4XxlDn92D"
      },
      "source": [
        "Your Answer:"
      ]
    },
    {
      "cell_type": "markdown",
      "metadata": {
        "id": "T3VGyXQ3sFXA"
      },
      "source": [
        "# Submit to AIcrowd 🚀\n"
      ]
    },
    {
      "cell_type": "code",
      "metadata": {
        "id": "yLNFW902PgGt",
        "colab": {
          "base_uri": "https://localhost:8080/"
        },
        "outputId": "42b0efe6-9cd4-40f3-bd43-4b04e7be5919"
      },
      "source": [
        "\n",
        "!DATASET_PATH=$AICROWD_DATASET_PATH \\\n",
        "aicrowd notebook submit \\\n",
        "    -c rl-assignment-2-taxi -a assets\n",
        "\n"
      ],
      "execution_count": null,
      "outputs": [
        {
          "output_type": "stream",
          "name": "stdout",
          "text": [
            "WARNING: No assets directory at assets... Creating one...\n",
            "WARNING: Assets directory is empty\n",
            "/usr/local/lib/python3.7/dist-packages/aicrowd/notebook/helpers.py:361: UserWarning: `%aicrowd` magic command can be used to save the notebook inside jupyter notebook/jupyterLab environment and also to get the notebook directly from the frontend without mounting the drive in colab environment. You can use magic command to skip mounting the drive and submit using the code below:\n",
            " %load_ext aicrowd.magic\n",
            "%aicrowd notebook submit -c rl-assignment-2-taxi -a assets\n",
            "  warnings.warn(description + code)\n",
            "\u001b[1;34mMounting Google Drive 💾\u001b[0m\n",
            "Your Google Drive will be mounted to access the colab notebook\n",
            "Go to this URL in a browser: https://accounts.google.com/o/oauth2/auth?client_id=947318989803-6bn6qk8qdgf4n4g3pfee6491hc0brc4i.apps.googleusercontent.com&redirect_uri=urn%3aietf%3awg%3aoauth%3a2.0%3aoob&scope=email%20https%3a%2f%2fwww.googleapis.com%2fauth%2fdocs.test%20https%3a%2f%2fwww.googleapis.com%2fauth%2fdrive%20https%3a%2f%2fwww.googleapis.com%2fauth%2fdrive.photos.readonly%20https%3a%2f%2fwww.googleapis.com%2fauth%2fpeopleapi.readonly%20https%3a%2f%2fwww.googleapis.com%2fauth%2fdrive.activity.readonly%20https%3a%2f%2fwww.googleapis.com%2fauth%2fexperimentsandconfigs%20https%3a%2f%2fwww.googleapis.com%2fauth%2fphotos.native&response_type=code\n",
            "\n",
            "Enter your authorization code:\n",
            "4/1AX4XfWj8IsfHTG-MHNf-O7kc4iQOVfDUVLSzsxmICXY1EeCp8zS15JLYb9Q\n",
            "Mounted at /content/drive\n",
            "Using notebook: Taxi Problem 3 starter notebook .ipynb for submission...\n",
            "Scrubbing API keys from the notebook...\n",
            "Collecting notebook...\n",
            "Validating the submission...\n",
            "Executing install.ipynb...\n",
            "[NbConvertApp] Converting notebook /content/submission/install.ipynb to notebook\n",
            "[NbConvertApp] Executing notebook with kernel: python3\n",
            "[NbConvertApp] Writing 1374 bytes to /content/submission/install.nbconvert.ipynb\n",
            "Executing predict.ipynb...\n",
            "[NbConvertApp] Converting notebook /content/submission/predict.ipynb to notebook\n",
            "[NbConvertApp] Executing notebook with kernel: python3\n",
            "[NbConvertApp] ERROR | unhandled iopub msg: colab_request\n",
            "[NbConvertApp] ERROR | unhandled iopub msg: colab_request\n",
            "[NbConvertApp] ERROR | unhandled iopub msg: colab_request\n",
            "[NbConvertApp] ERROR | unhandled iopub msg: colab_request\n",
            "[NbConvertApp] ERROR | unhandled iopub msg: colab_request\n",
            "[NbConvertApp] ERROR | unhandled iopub msg: colab_request\n",
            "[NbConvertApp] Writing 28122 bytes to /content/submission/predict.nbconvert.ipynb\n",
            "\u001b[2K\u001b[1;34msubmission.zip\u001b[0m \u001b[90m━━━━━━━━━━━━━━━━━━━━━━\u001b[0m \u001b[35m100.0%\u001b[0m • \u001b[32m23.0/21.4 KB\u001b[0m • \u001b[31m2.3 MB/s\u001b[0m • \u001b[36m0:00:00\u001b[0m\n",
            "\u001b[?25h                                         ╭─────────────────────────╮                                          \n",
            "                                         │ \u001b[1mSuccessfully submitted!\u001b[0m │                                          \n",
            "                                         ╰─────────────────────────╯                                          \n",
            "\u001b[3m                                               Important links                                                \u001b[0m\n",
            "┌──────────────────┬─────────────────────────────────────────────────────────────────────────────────────────┐\n",
            "│  This submission │ https://www.aicrowd.com/challenges/rl-assignment-2-taxi/submissions/158297              │\n",
            "│                  │                                                                                         │\n",
            "│  All submissions │ https://www.aicrowd.com/challenges/rl-assignment-2-taxi/submissions?my_submissions=true │\n",
            "│                  │                                                                                         │\n",
            "│      Leaderboard │ https://www.aicrowd.com/challenges/rl-assignment-2-taxi/leaderboards                    │\n",
            "│                  │                                                                                         │\n",
            "│ Discussion forum │ https://discourse.aicrowd.com/c/rl-assignment-2-taxi                                    │\n",
            "│                  │                                                                                         │\n",
            "│   Challenge page │ https://www.aicrowd.com/challenges/rl-assignment-2-taxi                                 │\n",
            "└──────────────────┴─────────────────────────────────────────────────────────────────────────────────────────┘\n"
          ]
        }
      ]
    }
  ]
}