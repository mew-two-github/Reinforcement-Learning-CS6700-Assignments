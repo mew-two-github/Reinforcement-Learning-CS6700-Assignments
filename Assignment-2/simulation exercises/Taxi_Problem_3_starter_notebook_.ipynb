{
  "nbformat": 4,
  "nbformat_minor": 0,
  "metadata": {
    "language_info": {
      "codemirror_mode": {
        "name": "ipython",
        "version": 3
      },
      "file_extension": ".py",
      "mimetype": "text/x-python",
      "name": "python",
      "nbconvert_exporter": "python",
      "pygments_lexer": "ipython3",
      "version": "3.8.8-final"
    },
    "orig_nbformat": 2,
    "kernelspec": {
      "name": "python3",
      "display_name": "Python 3.8.8 64-bit ('torch': conda)",
      "metadata": {
        "interpreter": {
          "hash": "d8957633bcb1ab41d2dfd9b11a55d25ae2b194ad0d644559562952e6e1dd74ed"
        }
      }
    },
    "colab": {
      "name": "Vishal Taxi Problem 3 starter notebook .ipynb",
      "provenance": [],
      "collapsed_sections": []
    }
  },
  "cells": [
    {
      "cell_type": "code",
      "metadata": {
        "id": "o5Yu8Gef7Dww"
      },
      "source": [
        ""
      ],
      "execution_count": null,
      "outputs": []
    },
    {
      "cell_type": "markdown",
      "metadata": {
        "id": "WXuhHGatRVNf"
      },
      "source": [
        "# What is the notebook about?\n",
        "\n",
        "## Problem - Taxi Environment Algorithms\n",
        "This problem deals with a taxi environment and stochastic actions. The tasks you have to do are:\n",
        "- Implement Policy Iteration\n",
        "- Visualize the results\n",
        "- Explain the results\n",
        "\n",
        "## How to use this notebook? 📝\n",
        "\n",
        "- This is a shared template and any edits you make here will not be saved.**You\n",
        "should make a copy in your own drive**. Click the \"File\" menu (top-left), then \"Save a Copy in Drive\". You will be working in your copy however you like.\n",
        "\n",
        "- **Update the config parameters**. You can define the common variables here\n",
        "\n",
        "Variable | Description\n",
        "--- | ---\n",
        "`AICROWD_DATASET_PATH` | Path to the file containing test data. This should be an absolute path.\n",
        "`AICROWD_RESULTS_DIR` | Path to write the output to.\n",
        "`AICROWD_ASSETS_DIR` | In case your notebook needs additional files (like model weights, etc.,), you can add them to a directory and specify the path to the directory here (please specify relative path). The contents of this directory will be sent to AIcrowd for evaluation.\n",
        "`AICROWD_API_KEY` | In order to submit your code to AIcrowd, you need to provide your account's API key. This key is available at https://www.aicrowd.com/participants/me\n",
        "\n",
        "- **Installing packages**. Please use the [Install packages 🗃](#install-packages-) section to install the packages"
      ]
    },
    {
      "cell_type": "markdown",
      "metadata": {
        "id": "1gzlHU3wRQRj"
      },
      "source": [
        "# Setup AIcrowd Utilities 🛠\n",
        "\n",
        "We use this to bundle the files for submission and create a submission on AIcrowd. Do not edit this block."
      ]
    },
    {
      "cell_type": "code",
      "metadata": {
        "id": "FMKvhbEKiFH5"
      },
      "source": [
        "!pip install -U aicrowd-cli > /dev/null "
      ],
      "execution_count": null,
      "outputs": []
    },
    {
      "cell_type": "markdown",
      "metadata": {
        "id": "oJuQ_nzaRpp6"
      },
      "source": [
        "# AIcrowd Runtime Configuration 🧷\n",
        "\n",
        "Define configuration parameters."
      ]
    },
    {
      "cell_type": "code",
      "metadata": {
        "id": "uBKm1IuliJc7"
      },
      "source": [
        "import os\n",
        "\n",
        "AICROWD_DATASET_PATH = os.getenv(\"DATASET_PATH\", os.getcwd()+\"/407e4f07-d470-427d-8758-4f888ae03fe6_data.zip\")\n",
        "AICROWD_RESULTS_DIR = os.getenv(\"OUTPUTS_DIR\", \"results\")\n",
        "API_KEY = \"7e057d0030fa8b2556c46e257b516e0a\" # Get your key from https://www.aicrowd.com/participants/me (ctrl + click the link)"
      ],
      "execution_count": null,
      "outputs": []
    },
    {
      "cell_type": "code",
      "metadata": {
        "colab": {
          "base_uri": "https://localhost:8080/"
        },
        "id": "RQnfZ7VYidPC",
        "outputId": "453874c9-ebe6-406a-e969-3a09fd8833fb"
      },
      "source": [
        "!aicrowd login --api-key $API_KEY\n",
        "!aicrowd dataset download -c rl-assignment-2-taxi"
      ],
      "execution_count": null,
      "outputs": [
        {
          "output_type": "stream",
          "name": "stdout",
          "text": [
            "\u001b[32mAPI Key valid\u001b[0m\n",
            "\u001b[32mSaved API Key successfully!\u001b[0m\n",
            "407e4f07-d470-427d-8758-4f888ae03fe6_data.zip: 100% 16.8k/16.8k [00:00<00:00, 198kB/s]\n"
          ]
        }
      ]
    },
    {
      "cell_type": "code",
      "metadata": {
        "id": "gm46inU6ABu-",
        "colab": {
          "base_uri": "https://localhost:8080/"
        },
        "outputId": "fae6e730-d3a1-4391-8076-4abd2d897648"
      },
      "source": [
        "DATASET_DIR = 'data/'\n",
        "!unzip $AICROWD_DATASET_PATH\n"
      ],
      "execution_count": null,
      "outputs": [
        {
          "output_type": "stream",
          "name": "stdout",
          "text": [
            "Archive:  /content/407e4f07-d470-427d-8758-4f888ae03fe6_data.zip\n",
            "replace __MACOSX/._data? [y]es, [n]o, [A]ll, [N]one, [r]ename: A\n",
            "  inflating: __MACOSX/._data         \n",
            "  inflating: __MACOSX/data/._targets  \n",
            "  inflating: __MACOSX/data/._inputs  \n",
            "  inflating: data/targets/targets_2.npy  \n",
            "  inflating: __MACOSX/data/targets/._targets_2.npy  \n",
            "  inflating: data/targets/targets_0.npy  \n",
            "  inflating: __MACOSX/data/targets/._targets_0.npy  \n",
            "  inflating: data/targets/targets_1.npy  \n",
            "  inflating: __MACOSX/data/targets/._targets_1.npy  \n",
            "  inflating: data/targets/targets_base.npy  \n",
            "  inflating: __MACOSX/data/targets/._targets_base.npy  \n",
            "  inflating: data/inputs/inputs_base.npy  \n",
            "  inflating: __MACOSX/data/inputs/._inputs_base.npy  \n",
            "  inflating: data/inputs/inputs_1.npy  \n",
            "  inflating: __MACOSX/data/inputs/._inputs_1.npy  \n",
            "  inflating: data/inputs/inputs_0.npy  \n",
            "  inflating: __MACOSX/data/inputs/._inputs_0.npy  \n",
            "  inflating: data/inputs/inputs_2.npy  \n",
            "  inflating: __MACOSX/data/inputs/._inputs_2.npy  \n"
          ]
        }
      ]
    },
    {
      "cell_type": "markdown",
      "metadata": {
        "id": "gTeWFlWukTob"
      },
      "source": [
        "# Install packages 🗃\n",
        "\n",
        "Please add all package installations in this section"
      ]
    },
    {
      "cell_type": "code",
      "metadata": {
        "id": "cusnfjYFRVNm"
      },
      "source": [
        ""
      ],
      "execution_count": null,
      "outputs": []
    },
    {
      "cell_type": "markdown",
      "metadata": {
        "id": "TxdOqsVGRXKg"
      },
      "source": [
        "# Import packages 💻"
      ]
    },
    {
      "cell_type": "code",
      "metadata": {
        "id": "lmhJUSs2Rjvh"
      },
      "source": [
        "import numpy as np\n",
        "import matplotlib.pyplot as plt \n",
        "import os\n",
        "# ADD ANY IMPORTS YOU WANT HERE\n"
      ],
      "execution_count": null,
      "outputs": []
    },
    {
      "cell_type": "markdown",
      "metadata": {
        "id": "mAtLwr59r_WY"
      },
      "source": [
        "# Prediction Phase"
      ]
    },
    {
      "cell_type": "markdown",
      "metadata": {
        "id": "Jng6kaDzPgGi"
      },
      "source": [
        "## Taxi Environment\n",
        "\n",
        "Read the environment to understand the functions, but do not edit anything"
      ]
    },
    {
      "cell_type": "code",
      "metadata": {
        "id": "Wb1Qt7_uiVDp"
      },
      "source": [
        "import numpy as np"
      ],
      "execution_count": null,
      "outputs": []
    },
    {
      "cell_type": "code",
      "metadata": {
        "id": "4rcHuPirPgGj"
      },
      "source": [
        "\n",
        "class TaxiEnv_HW2:\n",
        "    \n",
        "    def __init__(self, states, actions, probabilities, rewards, initial_policy):        \n",
        "        probabilities, rewards = self._build_prob_mapping(states, actions, probabilities,rewards)\n",
        "        self.possible_states = states\n",
        "        self._possible_actions = {st: actions for st in states}\n",
        "        self._ride_probabilities = {st: pr for st, pr in zip(states, probabilities)}\n",
        "        self._ride_rewards = {st: rw for st, rw in zip(states, rewards)}\n",
        "        self.initial_policy = initial_policy\n",
        "        self._verify()\n",
        "\n",
        "    def _build_prob_mapping(self,states, actions, probabilities,rewards):\n",
        "        n_cities = len(states)\n",
        "        n_actions = len(actions)\n",
        "\n",
        "        probs = np.zeros((n_cities, n_actions, n_cities))\n",
        "        \n",
        "        rewards[0] = [0,0,0,0,0,0]    \n",
        "        rews = np.zeros((n_cities, n_actions, n_cities))\n",
        "\n",
        "        for src in range(n_cities):\n",
        "          for action in ('1', '2'):\n",
        "              for c, prob in probabilities[action].items():\n",
        "                  dst = (src+c) % n_cities\n",
        "                  probs[src][actions.index(action)][dst] = prob\n",
        "                  rews[src][actions.index(action)][dst] = rewards[c][src]\n",
        "          action = '3'\n",
        "          action = actions.index(action)\n",
        "          probs[src][action][0] = 1\n",
        "        return probs, rews\n",
        "\n",
        "    def _check_state(self, state):\n",
        "        assert state in self.possible_states, \"State %s is not a valid state\" % state\n",
        "\n",
        "    def _verify(self):\n",
        "        \"\"\" \n",
        "        Verify that data conditions are met:\n",
        "        Number of actions matches shape of next state and actions\n",
        "        Every probability distribution adds up to 1 \n",
        "        \"\"\"\n",
        "        ns = len(self.possible_states)\n",
        "        for state in self.possible_states:\n",
        "            ac = self._possible_actions[state]\n",
        "            na = len(ac)\n",
        "            rp = self._ride_probabilities[state]\n",
        "            assert np.all(rp.shape == (na, ns)), \"Probabilities shape mismatch\"\n",
        "        \n",
        "            rr = self._ride_rewards[state]\n",
        "            assert np.all(rr.shape == (na, ns)), \"Rewards shape mismatch\"\n",
        "\n",
        "            assert np.allclose(rp.sum(axis=1), 1), \"Probabilities don't add up to 1\"\n",
        "\n",
        "    def possible_actions(self, state):\n",
        "        \"\"\" Return all possible actions from a given state \"\"\"\n",
        "        self._check_state(state)\n",
        "        return self._possible_actions[state]\n",
        "\n",
        "    def ride_probabilities(self, state, action):\n",
        "        \"\"\" \n",
        "        Returns all possible ride probabilities from a state for a given action\n",
        "        For every action a list with the returned with values in the same order as self.possible_states\n",
        "        \"\"\"\n",
        "        actions = self.possible_actions(state)\n",
        "        ac_idx = actions.index(action)\n",
        "        return self._ride_probabilities[state][ac_idx]\n",
        "\n",
        "    def ride_rewards(self, state, action):\n",
        "        actions = self.possible_actions(state)\n",
        "        ac_idx = actions.index(action)\n",
        "        return self._ride_rewards[state][ac_idx]"
      ],
      "execution_count": null,
      "outputs": []
    },
    {
      "cell_type": "markdown",
      "metadata": {
        "id": "BWa0ut8DPgGk"
      },
      "source": [
        "## Example of Environment usage"
      ]
    },
    {
      "cell_type": "code",
      "metadata": {
        "id": "q1HS9n9nPgGk",
        "colab": {
          "base_uri": "https://localhost:8080/"
        },
        "outputId": "9554ec56-e199-4222-984f-7decc05ab433"
      },
      "source": [
        "import numpy as np \n",
        "\n",
        "def check_taxienv():\n",
        "    # These are the values as used in the assignment document, but they may be changed during submission, so do not hardcode anything\n",
        "\n",
        "    states = [0, 1, 2, 3, 4, 5]\n",
        "\n",
        "    actions = ['1','2','3']\n",
        "\n",
        "    probs = {}\n",
        "    probs['1'] = {-1: 1/2, 0: 1/4, 1: 1/4}\n",
        "    probs['2'] = {-1: 1/16, 0: 3/4, 1: 3/16}\n",
        "\n",
        "    rewards = {}\n",
        "    rewards[-1] = [8,7,3,2,1,2]\n",
        "    rewards[1]  = [8,8,5,1,3,9]\n",
        "\n",
        "    initial_policy = {0:'1', 1:'1', 2:'1', 3:'1', 4:'1', 5:'1'}\n",
        "\n",
        "    ##################################\n",
        "\n",
        "\n",
        "    env = TaxiEnv_HW2(states, actions, probs, rewards, initial_policy)\n",
        "    print(\"All possible states\", env.possible_states)\n",
        "    print(\"All possible actions from state B\", env.possible_actions(1))\n",
        "    print(\"Ride probabilities from state A with action 2\", env.ride_probabilities(2, '2'))\n",
        "    print(\"Ride rewards from state C with action 3\", env.ride_rewards(4, '1'))\n",
        "\n",
        "    base_kwargs = {\"states\": states, \"actions\": actions, \n",
        "                \"probabilities\": probs, \"rewards\": rewards,\n",
        "                \"initial_policy\": initial_policy}\n",
        "    return base_kwargs\n",
        "\n",
        "base_kwargs = check_taxienv()"
      ],
      "execution_count": null,
      "outputs": [
        {
          "output_type": "stream",
          "name": "stdout",
          "text": [
            "All possible states [0, 1, 2, 3, 4, 5]\n",
            "All possible actions from state B ['1', '2', '3']\n",
            "Ride probabilities from state A with action 2 [0.     0.0625 0.75   0.1875 0.     0.    ]\n",
            "Ride rewards from state C with action 3 [0. 0. 0. 1. 0. 3.]\n"
          ]
        }
      ]
    },
    {
      "cell_type": "markdown",
      "metadata": {
        "id": "wpRmtI8CPgGm"
      },
      "source": [
        "## Task - Policy Iteration\n",
        "Run policy iteration on the environment and generate the policy and expected reward"
      ]
    },
    {
      "cell_type": "code",
      "metadata": {
        "tags": [],
        "id": "ErRhgG2bPgGm"
      },
      "source": [
        "# 1.1 Policy Iteration\n",
        "def policy_iteration(taxienv, gamma):\n",
        "    # A list of all the states\n",
        "    states = taxienv.possible_states\n",
        "    # Initial values\n",
        "    values = {s: 0 for s in states}\n",
        "\n",
        "    # This is a dictionary of states to policies -> e.g {'A': '1', 'B': '2', 'C': '1'}\n",
        "    policy = taxienv.initial_policy.copy()\n",
        "\n",
        "    ## Begin code here\n",
        "\n",
        "    # Hints - \n",
        "    # Do not hardcode anything\n",
        "    # Only the final result is required for the results\n",
        "    # Put any extra data in \"extra_info\" dictonary for any plots etc\n",
        "    # Use the helper functions taxienv.ride_rewards, taxienv.ride_probabilities,  taxienv.possible_actions\n",
        "    # For terminating condition use the condition exactly mentioned in the pdf\n",
        "\n",
        "    N = len(states)\n",
        "\n",
        "    done = 0\n",
        "    count = 0\n",
        "    while not done:\n",
        "    # Policy evaluation\n",
        "      count +=1\n",
        "      diff_max = 1\n",
        "      J = np.zeros(shape=N)\n",
        "      while diff_max>=1e-8:\n",
        "        Jprev_VI = np.copy(J)\n",
        "        diff_max = 0\n",
        "        for i in range(N):\n",
        "          state = states[i]\n",
        "          action = policy[state]\n",
        "          pij = np.array(taxienv.ride_probabilities(state,action))\n",
        "          g = np.array(taxienv.ride_rewards(state,action))\n",
        "          J[i] = sum(np.multiply(pij,g+gamma*Jprev_VI))\n",
        "          diff_max = max(abs(J[i]-Jprev_VI[i]),diff_max)\n",
        "      i  = 0\n",
        "      for state in values.keys():\n",
        "        values[state] = J[i]\n",
        "        i += 1\n",
        "      done = 1\n",
        "\n",
        "      # Policy Update\n",
        "      \n",
        "      for i in range(N):\n",
        "      # Initialise state value and available actions\n",
        "        state = states[i]\n",
        "        actions = taxienv.possible_actions(state)\n",
        "\n",
        "        # Set best action and value as current action and values\n",
        "        max_val = J[i]\n",
        "        best_action = policy[state]\n",
        "\n",
        "        for action in actions:\n",
        "          pij = np.array(taxienv.ride_probabilities(state,action))\n",
        "          g = np.array(taxienv.ride_rewards(state,action))\n",
        "          a_value = sum(np.multiply(pij,g+gamma*J))\n",
        "          if max_val < a_value:\n",
        "            max_val = a_value\n",
        "            best_action = action\n",
        "        # Check if new policy is same as old policy\n",
        "        if policy[state] != best_action:\n",
        "          done = 0\n",
        "        policy[state] = best_action\n",
        "\n",
        "    # Put your extra information needed for plots etc in this dictionary\n",
        "    extra_info = {\"number_iter\":count}\n",
        "\n",
        "    ## Do not edit below this line\n",
        "\n",
        "    # Final results\n",
        "    return {\"Expected Reward\": values, \"Policy\": policy}, extra_info"
      ],
      "execution_count": null,
      "outputs": []
    },
    {
      "cell_type": "markdown",
      "metadata": {
        "id": "hPxhOlrSioLG"
      },
      "source": [
        "Policy Iteration with different values of gamma\n"
      ]
    },
    {
      "cell_type": "code",
      "metadata": {
        "id": "PrCixx2GPgGn"
      },
      "source": [
        "# 1.2 Policy Iteration with different values of gamma\n",
        "def run_policy_iteration(env):\n",
        "    gamma_values = np.arange(5, 100, 5)/100\n",
        "    results, extra_info = {}, {}\n",
        "    for gamma in gamma_values:\n",
        "        results[gamma], extra_info[gamma] = policy_iteration(env, gamma)\n",
        "    return results, extra_info"
      ],
      "execution_count": null,
      "outputs": []
    },
    {
      "cell_type": "code",
      "metadata": {
        "id": "t5CtLixrPgGq"
      },
      "source": [
        "# Do not edit this cell\n",
        "def get_results(kwargs):\n",
        "\n",
        "    taxienv = TaxiEnv_HW2(**kwargs)\n",
        "\n",
        "    policy_iteration_results = run_policy_iteration(taxienv)[0]\n",
        "\n",
        "    final_results = {}\n",
        "    final_results[\"policy_iteration\"] = policy_iteration_results\n",
        "\n",
        "    return final_results"
      ],
      "execution_count": null,
      "outputs": []
    },
    {
      "cell_type": "code",
      "metadata": {
        "id": "5qllAY5ksSzW",
        "colab": {
          "base_uri": "https://localhost:8080/"
        },
        "outputId": "1a6738f4-3fb5-40f5-e340-8b833c73222b"
      },
      "source": [
        "get_results(base_kwargs)"
      ],
      "execution_count": null,
      "outputs": [
        {
          "output_type": "execute_result",
          "data": {
            "text/plain": [
              "{'policy_iteration': {0.05: {'Expected Reward': {0: 6.235100376707697,\n",
              "    1: 5.7647865549485084,\n",
              "    2: 2.9479370977961303,\n",
              "    3: 1.3574576265751364,\n",
              "    4: 1.3432783145586729,\n",
              "    5: 3.404071607538855},\n",
              "   'Policy': {0: '1', 1: '1', 2: '1', 3: '1', 4: '1', 5: '1'}},\n",
              "  0.1: {'Expected Reward': {0: 6.492397996301435,\n",
              "    1: 6.05522632007875,\n",
              "    2: 3.1690305036493456,\n",
              "    3: 1.4817370154840632,\n",
              "    4: 1.449682610049221,\n",
              "    5: 3.5741477744371872},\n",
              "   'Policy': {0: '1', 1: '1', 2: '1', 3: '1', 4: '1', 5: '1'}},\n",
              "  0.15: {'Expected Reward': {0: 6.775385850222733,\n",
              "    1: 6.375378843246467,\n",
              "    2: 3.417285287685362,\n",
              "    3: 1.6262313755872122,\n",
              "    4: 1.5720347429184187,\n",
              "    5: 3.7630956619928337},\n",
              "   'Policy': {0: '1', 1: '1', 2: '1', 3: '1', 4: '1', 5: '1'}},\n",
              "  0.2: {'Expected Reward': {0: 7.088385029530172,\n",
              "    1: 6.730233583076426,\n",
              "    2: 3.6976680302982676,\n",
              "    3: 1.7952254204109084,\n",
              "    4: 1.713946938123561,\n",
              "    5: 3.9745409944646655},\n",
              "   'Policy': {0: '1', 1: '1', 2: '1', 3: '1', 4: '1', 5: '1'}},\n",
              "  0.25: {'Expected Reward': {0: 7.436818189880881,\n",
              "    1: 7.126003321689765,\n",
              "    2: 4.016413458002408,\n",
              "    3: 1.9941952390629427,\n",
              "    4: 1.8801016823456345,\n",
              "    5: 4.213134769476215},\n",
              "   'Policy': {0: '1', 1: '1', 2: '1', 3: '1', 4: '1', 5: '1'}},\n",
              "  0.3: {'Expected Reward': {0: 7.835065688766875,\n",
              "    1: 7.572567918324035,\n",
              "    2: 4.391539636758889,\n",
              "    3: 2.350519705007851,\n",
              "    4: 2.350519705007851,\n",
              "    5: 4.529954465715114},\n",
              "   'Policy': {0: '1', 1: '1', 2: '1', 3: '3', 4: '3', 5: '1'}},\n",
              "  0.35: {'Expected Reward': {0: 8.292642352148619,\n",
              "    1: 8.082068300456278,\n",
              "    2: 4.841999036875946,\n",
              "    3: 2.9024248200657192,\n",
              "    4: 2.9024248200657192,\n",
              "    5: 4.913458132754205},\n",
              "   'Policy': {0: '1', 1: '1', 2: '1', 3: '3', 4: '3', 5: '1'}},\n",
              "  0.4: {'Expected Reward': {0: 8.824592363554471,\n",
              "    1: 8.66927214166844,\n",
              "    2: 5.374264577371919,\n",
              "    3: 3.529836942475298,\n",
              "    4: 3.529836942475298,\n",
              "    5: 5.376029579893352},\n",
              "   'Policy': {0: '1', 1: '1', 2: '1', 3: '3', 4: '3', 5: '1'}},\n",
              "  0.45: {'Expected Reward': {0: 9.451953387955253,\n",
              "    1: 9.355220353488543,\n",
              "    2: 6.0094982707777795,\n",
              "    3: 4.253379020548513,\n",
              "    4: 4.253379020548513,\n",
              "    5: 5.9384282047741195},\n",
              "   'Policy': {0: '1', 1: '1', 2: '1', 3: '3', 4: '3', 5: '1'}},\n",
              "  0.5: {'Expected Reward': {0: 10.204122167517317,\n",
              "    1: 10.169356833521787,\n",
              "    2: 6.777253530815058,\n",
              "    3: 5.102061079859011,\n",
              "    4: 5.102061079859011,\n",
              "    5: 6.629749185148308},\n",
              "   'Policy': {0: '1', 1: '1', 2: '1', 3: '3', 4: '3', 5: '1'}},\n",
              "  0.55: {'Expected Reward': {0: 11.123500554447055,\n",
              "    1: 11.154180743796587,\n",
              "    2: 7.720132672554844,\n",
              "    3: 6.117925301521206,\n",
              "    4: 6.117925301521206,\n",
              "    5: 7.492070470411742},\n",
              "   'Policy': {0: '1', 1: '1', 2: '1', 3: '3', 4: '3', 5: '1'}},\n",
              "  0.6: {'Expected Reward': {0: 12.273627421202479,\n",
              "    1: 12.373385914198774,\n",
              "    2: 8.901932042036481,\n",
              "    3: 7.36417644712423,\n",
              "    4: 7.36417644712423,\n",
              "    5: 8.588584754965158},\n",
              "   'Policy': {0: '1', 1: '1', 2: '1', 3: '3', 4: '3', 5: '1'}},\n",
              "  0.65: {'Expected Reward': {0: 13.754282250234892,\n",
              "    1: 13.92697363437868,\n",
              "    2: 10.422761180607706,\n",
              "    3: 8.940283458269732,\n",
              "    4: 8.940283458269732,\n",
              "    5: 10.018702071901952},\n",
              "   'Policy': {0: '1', 1: '1', 2: '1', 3: '3', 4: '3', 5: '1'}},\n",
              "  0.7: {'Expected Reward': {0: 15.73169387539033,\n",
              "    1: 15.981472916376944,\n",
              "    2: 12.449270319006304,\n",
              "    3: 11.01218570657149,\n",
              "    4: 11.01218570657149,\n",
              "    5: 11.948256265807988},\n",
              "   'Policy': {0: '1', 1: '1', 2: '1', 3: '3', 4: '3', 5: '1'}},\n",
              "  0.75: {'Expected Reward': {0: 18.505002004193358,\n",
              "    1: 18.8364166778861,\n",
              "    2: 15.281134959199438,\n",
              "    3: 13.878751497505071,\n",
              "    4: 13.878751497505071,\n",
              "    5: 14.675962685182412},\n",
              "   'Policy': {0: '1', 1: '1', 2: '1', 3: '3', 4: '3', 5: '1'}},\n",
              "  0.8: {'Expected Reward': {0: 22.67241375338484,\n",
              "    1: 23.090517201660703,\n",
              "    2: 19.517241339591738,\n",
              "    3: 18.13793099476415,\n",
              "    4: 18.13793099476415,\n",
              "    5: 18.799568925798635},\n",
              "   'Policy': {0: '1', 1: '1', 2: '1', 3: '3', 4: '3', 5: '1'}},\n",
              "  0.85: {'Expected Reward': {0: 29.629678305250724,\n",
              "    1: 30.14016554289598,\n",
              "    2: 26.554198083340907,\n",
              "    3: 25.185226552052196,\n",
              "    4: 25.185226552052196,\n",
              "    5: 25.714321164542277},\n",
              "   'Policy': {0: '1', 1: '1', 2: '1', 3: '3', 4: '3', 5: '1'}},\n",
              "  0.9: {'Expected Reward': {0: 43.56399422195345,\n",
              "    1: 44.17337164003564,\n",
              "    2: 40.5802916872039,\n",
              "    3: 39.20759479128579,\n",
              "    4: 39.20759479128579,\n",
              "    5: 39.606859803284934},\n",
              "   'Policy': {0: '1', 1: '1', 2: '1', 3: '3', 4: '3', 5: '1'}},\n",
              "  0.95: {'Expected Reward': {0: 85.41138585868671,\n",
              "    1: 86.12718477476469,\n",
              "    2: 82.53292680811312,\n",
              "    3: 81.1408165567074,\n",
              "    4: 81.1408165567074,\n",
              "    5: 81.41257966797262},\n",
              "   'Policy': {0: '1', 1: '1', 2: '1', 3: '3', 4: '3', 5: '1'}}}}"
            ]
          },
          "metadata": {},
          "execution_count": 14
        }
      ]
    },
    {
      "cell_type": "code",
      "metadata": {
        "id": "jXjUPMgUzUfk"
      },
      "source": [
        "if not os.path.exists(AICROWD_RESULTS_DIR):\n",
        "  os.mkdir(AICROWD_RESULTS_DIR)\n",
        "if not os.path.exists(DATASET_DIR+'/inputs'):\n",
        "  os.mkdir(DATASET_DIR+'/inputs')"
      ],
      "execution_count": null,
      "outputs": []
    },
    {
      "cell_type": "code",
      "metadata": {
        "id": "tW-E9huAPgGs",
        "colab": {
          "base_uri": "https://localhost:8080/"
        },
        "outputId": "621438bd-b948-4326-eda8-7459e34fd864"
      },
      "source": [
        "# Do not edit this cell, generate results with it as is\n",
        "\n",
        "input_dir = os.path.join(DATASET_DIR, 'inputs')\n",
        "\n",
        "if not os.path.exists(AICROWD_RESULTS_DIR):\n",
        "    os.mkdir(AICROWD_RESULTS_DIR)\n",
        "\n",
        "for params_file in os.listdir(input_dir):\n",
        "  kwargs = np.load(os.path.join(input_dir, params_file), allow_pickle=True).item()\n",
        "  print(kwargs)\n",
        "  results = get_results(kwargs)\n",
        "  idx = params_file.split('_')[-1][:-4]\n",
        "  np.save(os.path.join(AICROWD_RESULTS_DIR, 'results_' + idx), results)"
      ],
      "execution_count": null,
      "outputs": [
        {
          "output_type": "stream",
          "name": "stdout",
          "text": [
            "{'states': [0, 1, 2, 3, 4], 'actions': ['1', '2', '3'], 'probabilities': {'1': {-1: 0.013212886953789417, 0: 0.265387928772242, 1: 0.7213991842739688}, '2': {-1: 0.013212886953789417, 0: 0.265387928772242, 1: 0.7213991842739688}}, 'rewards': {-1: [4, 4, 2, 7, 2], 1: [3, 4, 3, 5, 4], 0: [0, 0, 0, 0, 0, 0]}, 'initial_policy': {0: '1', 1: '1', 2: '1', 3: '1', 4: '1'}}\n",
            "{'states': [0, 1, 2, 3, 4], 'actions': ['1', '2', '3'], 'probabilities': {'1': {-1: 0.8668133321973345, 0: 0.01587623997646676, 1: 0.1173104278261983}, '2': {-1: 0.8668133321973345, 0: 0.01587623997646676, 1: 0.1173104278261983}}, 'rewards': {-1: [6, 4, 7, 4, 4], 1: [7, 5, 5, 2, 4], 0: [0, 0, 0, 0, 0, 0]}, 'initial_policy': {0: '1', 1: '1', 2: '1', 3: '1', 4: '1'}}\n",
            "{'states': [0, 1, 2, 3], 'actions': ['1', '2', '3'], 'probabilities': {'1': {-1: 0.6652409557748217, 0: 0.24472847105479759, 1: 0.09003057317038043}, '2': {-1: 0.6652409557748217, 0: 0.24472847105479759, 1: 0.09003057317038043}}, 'rewards': {-1: [7, 3, 7, 3], 1: [2, 6, 7, 6], 0: [0, 0, 0, 0, 0, 0]}, 'initial_policy': {0: '1', 1: '1', 2: '1', 3: '1'}}\n",
            "{'states': [0, 1, 2, 3, 4, 5], 'actions': ['1', '2', '3'], 'probabilities': {'1': {-1: 0.5, 0: 0.25, 1: 0.25}, '2': {-1: 0.0625, 0: 0.75, 1: 0.1875}}, 'rewards': {-1: [8, 7, 3, 2, 1, 2], 1: [8, 8, 5, 1, 3, 9], 0: [0, 0, 0, 0, 0, 0]}, 'initial_policy': {0: '1', 1: '1', 2: '1', 3: '1', 4: '1', 5: '1'}}\n"
          ]
        }
      ]
    },
    {
      "cell_type": "code",
      "metadata": {
        "id": "ctaIoyEQPgGt",
        "colab": {
          "base_uri": "https://localhost:8080/"
        },
        "outputId": "4e932f3d-9fdb-40e5-d7bc-7f174152c890"
      },
      "source": [
        "# Check your score on the given test cases (There are more private test cases not provided)\n",
        "result_folder = AICROWD_RESULTS_DIR\n",
        "target_folder = os.path.join(DATASET_DIR, 'targets')\n",
        "\n",
        "def check_algo_match(results, targets):\n",
        "    param_matches = []\n",
        "    for k in results:\n",
        "        param_results = results[k]\n",
        "        param_targets = targets[k]\n",
        "        policy_match = param_results['Policy'] == param_targets['Policy']\n",
        "        rv = [v for k, v in param_results['Expected Reward'].items()]\n",
        "        tv = [v for k, v in param_targets['Expected Reward'].items()]\n",
        "        rewards_match = np.allclose(rv, tv, atol=1e-1)\n",
        "        equal = rewards_match and policy_match\n",
        "        param_matches.append(equal)\n",
        "    return np.mean(param_matches)\n",
        "\n",
        "def check_score(target_folder, result_folder):\n",
        "    match = []\n",
        "    for out_file in os.listdir(result_folder):\n",
        "        res_file = os.path.join(result_folder, out_file)\n",
        "        results = np.load(res_file, allow_pickle=True).item()\n",
        "        idx = out_file.split('_')[-1][:-4]  # Extract the file number\n",
        "        target_file = os.path.join(target_folder, f\"targets_{idx}.npy\")\n",
        "        targets = np.load(target_file, allow_pickle=True).item()\n",
        "        algo_match = []\n",
        "        for k in targets:\n",
        "            algo_results = results[k]\n",
        "            algo_targets = targets[k]\n",
        "            algo_match.append(check_algo_match(algo_results, algo_targets))\n",
        "        match.append(np.mean(algo_match))\n",
        "    return np.mean(match)\n",
        "\n",
        "if os.path.exists(target_folder):\n",
        "    print(\"Shared data Score (normalized to 1):\", check_score(target_folder, result_folder))"
      ],
      "execution_count": null,
      "outputs": [
        {
          "output_type": "stream",
          "name": "stdout",
          "text": [
            "Shared data Score (normalized to 1): 1.0\n"
          ]
        }
      ]
    },
    {
      "cell_type": "markdown",
      "metadata": {
        "id": "b4ez7fj0nr6O"
      },
      "source": [
        "## Answer the following"
      ]
    },
    {
      "cell_type": "markdown",
      "metadata": {
        "id": "9GWQfdNJnwhs"
      },
      "source": [
        "1. How is different values of γ affecting the policy iteration from 1.2? Explain your findings"
      ]
    },
    {
      "cell_type": "markdown",
      "metadata": {
        "id": "wZM3OMBYnys3"
      },
      "source": [
        "\n",
        "\n",
        "Your Answer:\n",
        "1. Firstly, one can infer from the optimal policies that, as $\\gamma$ increases, some of the states (specifically 3 and 4) have the optimal action as 3 (returning to the HQ/state 0). Also, the expected rewards of each state come closer as gamma increases. This is because, higher $\\gamma$ means, we give more weight to future rewards. Since state 0 (HQ) has good rewards if a ride is obtained, and the weight for future rewards $\\gamma$ is also high, it is preferable in states 3 & 4 to travel back to HQ in the current step and then obtain high rewards there in the future, rather than trying to get a ride in states 3 or 4 which will yield more reward in present but if we consider future rewards too, staying in 3 or 4 will provide lower rewards.\n",
        "2. Policy iteration takes more steps to converge as $\\gamma$ increases (as shown in the graph below). This is because we begin with a policy $\\pi_0$ that is optimal at small $\\gamma$, and as $\\gamma$ changes we can see that the optimal policy also changes."
      ]
    },
    {
      "cell_type": "code",
      "metadata": {
        "colab": {
          "base_uri": "https://localhost:8080/",
          "height": 297
        },
        "id": "Cyt0mSzGLACv",
        "outputId": "cac686fe-3112-4a87-b7fe-d19671613f42"
      },
      "source": [
        "kwargs = base_kwargs.copy()\n",
        "env = TaxiEnv_HW2(**kwargs)\n",
        "Results,extra_infos = run_policy_iteration(env)\n",
        "dicts = extra_infos.values()\n",
        "iters = []\n",
        "gammas = np.arange(5, 100, 5)/100\n",
        "for dictionary in dicts:\n",
        "  iters.append(dictionary['number_iter'])\n",
        "plt.plot(gammas,iters)\n",
        "plt.title('Convergence of policy iteration')\n",
        "plt.xlabel('$\\gamma$')\n",
        "plt.ylabel('Iterations taken for convergence');\n",
        "# Note that if iters = 1 one step of policy evaluation and policy improvement \n",
        "# has happened. But that does not mean a new policy has been found, old policy \n",
        "# itself is optimal. (it checks whether old policy is equal to improved. If so,\n",
        "# it is optimal)"
      ],
      "execution_count": null,
      "outputs": [
        {
          "output_type": "display_data",
          "data": {
            "image/png": "[encoded data removed]",
            "text/plain": [
              "<Figure size 432x288 with 1 Axes>"
            ]
          },
          "metadata": {
            "needs_background": "light"
          }
        }
      ]
    },
    {
      "cell_type": "markdown",
      "metadata": {
        "id": "SgGX7U8Mn4B5"
      },
      "source": [
        "2. Give alternate transition probabilities for action 2(if exists) such that optimal policy consists of action 2. Explain your answer"
      ]
    },
    {
      "cell_type": "markdown",
      "metadata": {
        "id": "Amc4XxlDn92D"
      },
      "source": [
        "Your Answer:\n",
        "\n",
        "Alternate transition probabilities: {-1:2/3, 0:1/6, 1:1/6}\n",
        "\n",
        "It has been simulated in the next cell and we can see that the optimal policy has action 2 in several states. \n",
        "I improved the expected reward of action 2 and hence increased its chances at coming in optimal policy by:\n",
        "\n",
        "a. Increased the probability of getting a ride (= p(-1) + p(1)) and in fact, made it more than that of action 1 ($\\frac{5}{6}$ in action 2 compared to $\\frac{3}{4}$ in action 1)\n",
        "\n",
        "b. Probability of a '-1' transition is high. This is useful because, for the given environment '-1' transitions are often rewarded more than those rides corresponding to '+1' transition."
      ]
    },
    {
      "cell_type": "code",
      "metadata": {
        "colab": {
          "base_uri": "https://localhost:8080/"
        },
        "id": "OOrtyRPJ6LW1",
        "outputId": "5ad8a977-bbab-484d-ab84-881ee072fcd6"
      },
      "source": [
        "new_kwargs = base_kwargs.copy()\n",
        "new_kwargs[\"probabilities\"]['2'] = {-1:2/3,0:1/6,1:1/6}\n",
        "get_results(new_kwargs)"
      ],
      "execution_count": null,
      "outputs": [
        {
          "output_type": "execute_result",
          "data": {
            "text/plain": [
              "{'policy_iteration': {0.05: {'Expected Reward': {0: 6.890404255684389,\n",
              "    1: 6.3079367097870085,\n",
              "    2: 3.0828514583525526,\n",
              "    3: 1.6275767211335066,\n",
              "    4: 1.3502239982783635,\n",
              "    5: 3.412542433425061},\n",
              "   'Policy': {0: '2', 1: '2', 2: '2', 3: '2', 4: '1', 5: '1'}},\n",
              "  0.1: {'Expected Reward': {0: 7.135732832428923,\n",
              "    1: 6.642453588626351,\n",
              "    2: 3.3618304210563275,\n",
              "    3: 1.7781805092334164,\n",
              "    4: 1.465328381812956,\n",
              "    5: 3.5914458867010306},\n",
              "   'Policy': {0: '2', 1: '2', 2: '2', 3: '2', 4: '1', 5: '1'}},\n",
              "  0.15: {'Expected Reward': {0: 7.405982764113947,\n",
              "    1: 7.007661839801358,\n",
              "    2: 3.674880714792918,\n",
              "    3: 1.9563672032580732,\n",
              "    4: 1.5987980865832934,\n",
              "    5: 3.7897498282360904},\n",
              "   'Policy': {0: '2', 1: '2', 2: '2', 3: '2', 4: '1', 5: '1'}},\n",
              "  0.2: {'Expected Reward': {0: 7.705308725024998,\n",
              "    1: 7.408582551493351,\n",
              "    2: 4.027659111108235,\n",
              "    3: 2.167784034090722,\n",
              "    4: 1.7551005620705085,\n",
              "    5: 4.0113426230163345},\n",
              "   'Policy': {0: '2', 1: '2', 2: '2', 3: '2', 4: '1', 5: '1'}},\n",
              "  0.25: {'Expected Reward': {0: 8.040637269833432,\n",
              "    1: 7.851735659933936,\n",
              "    2: 4.42737112278675,\n",
              "    3: 2.422593207999033,\n",
              "    4: 2.010159316473364,\n",
              "    5: 4.270730392468225},\n",
              "   'Policy': {0: '2', 1: '2', 2: '2', 3: '2', 4: '3', 5: '1'}},\n",
              "  0.3: {'Expected Reward': {0: 8.42668582875162,\n",
              "    1: 8.346876699495187,\n",
              "    2: 4.883914008178466,\n",
              "    3: 2.740192723522146,\n",
              "    4: 2.5280057469867354,\n",
              "    5: 4.606705186557352},\n",
              "   'Policy': {0: '2', 1: '2', 2: '2', 3: '2', 4: '3', 5: '1'}},\n",
              "  0.35: {'Expected Reward': {0: 8.872198048634436,\n",
              "    1: 8.905176810274677,\n",
              "    2: 5.409062083650007,\n",
              "    3: 3.1255807358631813,\n",
              "    4: 3.105269313803109,\n",
              "    5: 5.007933650358477},\n",
              "   'Policy': {0: '2', 1: '2', 2: '2', 3: '2', 4: '3', 5: '1'}},\n",
              "  0.4: {'Expected Reward': {0: 9.392991654976736,\n",
              "    1: 9.5430454618102,\n",
              "    2: 6.030669890112593,\n",
              "    3: 3.757196659012244,\n",
              "    4: 3.757196659012244,\n",
              "    5: 5.489709438135192},\n",
              "   'Policy': {0: '2', 1: '2', 2: '2', 3: '3', 4: '3', 5: '1'}},\n",
              "  0.45: {'Expected Reward': {0: 10.010439719017645,\n",
              "    1: 10.281453495535679,\n",
              "    2: 6.7628342898704625,\n",
              "    3: 4.504697869482866,\n",
              "    4: 4.504697869482866,\n",
              "    5: 6.072936884448513},\n",
              "   'Policy': {0: '2', 1: '2', 2: '2', 3: '3', 4: '3', 5: '1'}},\n",
              "  0.5: {'Expected Reward': {0: 10.754364483515973,\n",
              "    1: 11.150164264486147,\n",
              "    2: 7.6343490225870285,\n",
              "    3: 5.377182237816044,\n",
              "    4: 5.377182237816044,\n",
              "    5: 6.786961275373217},\n",
              "   'Policy': {0: '2', 1: '2', 2: '2', 3: '3', 4: '3', 5: '1'}},\n",
              "  0.55: {'Expected Reward': {0: 11.667728539438992,\n",
              "    1: 12.192235970797578,\n",
              "    2: 8.688515045185332,\n",
              "    3: 6.417250693229628,\n",
              "    4: 6.417250693229628,\n",
              "    5: 7.674268534897613},\n",
              "   'Policy': {0: '2', 1: '2', 2: '2', 3: '3', 4: '3', 5: '1'}},\n",
              "  0.6: {'Expected Reward': {0: 12.814851326347455,\n",
              "    1: 13.472167419560982,\n",
              "    2: 9.99010152723868,\n",
              "    3: 7.6889107901505085,\n",
              "    4: 7.6889107901505085,\n",
              "    5: 8.798706976869772},\n",
              "   'Policy': {0: '2', 1: '2', 2: '2', 3: '3', 4: '3', 5: '1'}},\n",
              "  0.65: {'Expected Reward': {0: 14.296678381967947,\n",
              "    1: 15.091173171166908,\n",
              "    2: 11.640634921860316,\n",
              "    3: 9.29284094384868,\n",
              "    4: 9.29284094384868,\n",
              "    5: 10.260756464943436},\n",
              "   'Policy': {0: '2', 1: '2', 2: '2', 3: '3', 4: '3', 5: '1'}},\n",
              "  0.7: {'Expected Reward': {0: 16.281319846693187,\n",
              "    1: 17.21772977434316,\n",
              "    2: 13.808960386988336,\n",
              "    3: 11.396923886416229,\n",
              "    4: 11.396923886416229,\n",
              "    5: 12.228065851088466},\n",
              "   'Policy': {0: '2', 1: '2', 2: '2', 3: '3', 4: '3', 5: '1'}},\n",
              "  0.75: {'Expected Reward': {0: 19.071235260976948,\n",
              "    1: 20.154770667759585,\n",
              "    2: 16.798453676018237,\n",
              "    3: 14.303426440031597,\n",
              "    4: 14.303426440031597,\n",
              "    5: 15.00263571783866},\n",
              "   'Policy': {0: '2', 1: '2', 2: '2', 3: '3', 4: '3', 5: '1'}},\n",
              "  0.8: {'Expected Reward': {0: 23.27119506491828,\n",
              "    1: 24.507660846327887,\n",
              "    2: 21.215015289637385,\n",
              "    3: 18.616956045510726,\n",
              "    4: 18.616956045510726,\n",
              "    5: 19.188776780955056},\n",
              "   'Policy': {0: '2', 1: '2', 2: '2', 3: '3', 4: '3', 5: '1'}},\n",
              "  0.85: {'Expected Reward': {0: 30.331422576574735,\n",
              "    1: 31.718205603542113,\n",
              "    2: 28.496378992504376,\n",
              "    3: 25.781709182465036,\n",
              "    4: 25.781709182465036,\n",
              "    5: 26.22559199040798},\n",
              "   'Policy': {0: '1', 1: '2', 2: '2', 3: '3', 4: '3', 5: '1'}},\n",
              "  0.9: {'Expected Reward': {0: 44.669006781711126,\n",
              "    1: 46.18298946575637,\n",
              "    2: 43.0275799038771,\n",
              "    3: 40.202106094824686,\n",
              "    4: 40.202106094824686,\n",
              "    5: 40.50512807721392},\n",
              "   'Policy': {0: '1', 1: '2', 2: '2', 3: '3', 4: '3', 5: '1'}},\n",
              "  0.95: {'Expected Reward': {0: 87.72073695679381,\n",
              "    1: 89.36944198724896,\n",
              "    2: 86.29145437433401,\n",
              "    3: 83.33470009964971,\n",
              "    4: 83.33470009964971,\n",
              "    5: 83.49856729871175},\n",
              "   'Policy': {0: '1', 1: '2', 2: '2', 3: '3', 4: '3', 5: '1'}}}}"
            ]
          },
          "metadata": {},
          "execution_count": 19
        }
      ]
    },
    {
      "cell_type": "markdown",
      "metadata": {
        "id": "T3VGyXQ3sFXA"
      },
      "source": [
        "# Submit to AIcrowd 🚀\n"
      ]
    },
    {
      "cell_type": "code",
      "metadata": {
        "id": "yLNFW902PgGt",
        "colab": {
          "base_uri": "https://localhost:8080/"
        },
        "outputId": "6b04427f-af48-4d2f-f63d-b7b040a9dfb7"
      },
      "source": [
        "!DATASET_PATH=$AICROWD_DATASET_PATH \\\n",
        "aicrowd notebook submit \\\n",
        "    -c rl-assignment-2-taxi -a assets\n",
        "\n"
      ],
      "execution_count": null,
      "outputs": [
        {
          "output_type": "stream",
          "name": "stdout",
          "text": [
            "WARNING: No assets directory at assets... Creating one...\n",
            "WARNING: Assets directory is empty\n",
            "/usr/local/lib/python3.7/dist-packages/aicrowd/notebook/helpers.py:361: UserWarning: `%aicrowd` magic command can be used to save the notebook inside jupyter notebook/jupyterLab environment and also to get the notebook directly from the frontend without mounting the drive in colab environment. You can use magic command to skip mounting the drive and submit using the code below:\n",
            " %load_ext aicrowd.magic\n",
            "%aicrowd notebook submit -c rl-assignment-2-taxi -a assets\n",
            "  warnings.warn(description + code)\n",
            "\u001b[1;34mMounting Google Drive 💾\u001b[0m\n",
            "Your Google Drive will be mounted to access the colab notebook\n",
            "Go to this URL in a browser: https://accounts.google.com/o/oauth2/auth?client_id=947318989803-6bn6qk8qdgf4n4g3pfee6491hc0brc4i.apps.googleusercontent.com&redirect_uri=urn%3aietf%3awg%3aoauth%3a2.0%3aoob&scope=email%20https%3a%2f%2fwww.googleapis.com%2fauth%2fdocs.test%20https%3a%2f%2fwww.googleapis.com%2fauth%2fdrive%20https%3a%2f%2fwww.googleapis.com%2fauth%2fdrive.photos.readonly%20https%3a%2f%2fwww.googleapis.com%2fauth%2fpeopleapi.readonly%20https%3a%2f%2fwww.googleapis.com%2fauth%2fdrive.activity.readonly%20https%3a%2f%2fwww.googleapis.com%2fauth%2fexperimentsandconfigs%20https%3a%2f%2fwww.googleapis.com%2fauth%2fphotos.native&response_type=code\n",
            "\n",
            "Enter your authorization code:\n",
            "4/1AX4XfWiX-5AZEmdiJ9Y9yTX-T0GQ01vj1ChCTaVOwrESKgW-RlC-GYMAllk\n",
            "Mounted at /content/drive\n",
            "Using notebook: Vishal Taxi Problem 3 starter notebook .ipynb for submission...\n",
            "Scrubbing API keys from the notebook...\n",
            "Collecting notebook...\n",
            "Validating the submission...\n",
            "Executing install.ipynb...\n",
            "[NbConvertApp] Converting notebook /content/submission/install.ipynb to notebook\n",
            "[NbConvertApp] Executing notebook with kernel: python3\n",
            "[NbConvertApp] Writing 1850 bytes to /content/submission/install.nbconvert.ipynb\n",
            "Executing predict.ipynb...\n",
            "[NbConvertApp] Converting notebook /content/submission/predict.ipynb to notebook\n",
            "[NbConvertApp] Executing notebook with kernel: python3\n",
            "[NbConvertApp] ERROR | unhandled iopub msg: colab_request\n",
            "[NbConvertApp] ERROR | unhandled iopub msg: colab_request\n",
            "[NbConvertApp] ERROR | unhandled iopub msg: colab_request\n",
            "[NbConvertApp] ERROR | unhandled iopub msg: colab_request\n",
            "[NbConvertApp] ERROR | unhandled iopub msg: colab_request\n",
            "[NbConvertApp] ERROR | unhandled iopub msg: colab_request\n",
            "[NbConvertApp] Writing 59834 bytes to /content/submission/predict.nbconvert.ipynb\n",
            "\u001b[2K\u001b[1;34msubmission.zip\u001b[0m \u001b[90m━━━━━━━━━━━━━━━━━━━━\u001b[0m \u001b[35m100.0%\u001b[0m • \u001b[32m72.8/71.2 KB\u001b[0m • \u001b[31m635.7 kB/s\u001b[0m • \u001b[36m0:00:00\u001b[0m\n",
            "\u001b[?25h                                                          ╭─────────────────────────╮                                                          \n",
            "                                                          │ \u001b[1mSuccessfully submitted!\u001b[0m │                                                          \n",
            "                                                          ╰─────────────────────────╯                                                          \n",
            "\u001b[3m                                                                Important links                                                                \u001b[0m\n",
            "┌──────────────────┬──────────────────────────────────────────────────────────────────────────────────────────────────────────────────────────┐\n",
            "│  This submission │ https://www.aicrowd.com/challenges/iit-m-2021-assignment-2/problems/rl-assignment-2-taxi/submissions/160669              │\n",
            "│                  │                                                                                                                          │\n",
            "│  All submissions │ https://www.aicrowd.com/challenges/iit-m-2021-assignment-2/problems/rl-assignment-2-taxi/submissions?my_submissions=true │\n",
            "│                  │                                                                                                                          │\n",
            "│      Leaderboard │ https://www.aicrowd.com/challenges/iit-m-2021-assignment-2/problems/rl-assignment-2-taxi/leaderboards                    │\n",
            "│                  │                                                                                                                          │\n",
            "│ Discussion forum │ https://discourse.aicrowd.com/c/iit-m-2021-assignment-2                                                                  │\n",
            "│                  │                                                                                                                          │\n",
            "│   Challenge page │ https://www.aicrowd.com/challenges/iit-m-2021-assignment-2/problems/rl-assignment-2-taxi                                 │\n",
            "└──────────────────┴──────────────────────────────────────────────────────────────────────────────────────────────────────────────────────────┘\n"
          ]
        }
      ]
    },
    {
      "cell_type": "code",
      "metadata": {
        "id": "AM8zNWPO8WiX"
      },
      "source": [
        ""
      ],
      "execution_count": null,
      "outputs": []
    }
  ]
}