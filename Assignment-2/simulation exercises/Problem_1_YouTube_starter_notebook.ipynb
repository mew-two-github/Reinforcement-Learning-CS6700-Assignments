{
  "nbformat": 4,
  "nbformat_minor": 0,
  "metadata": {
    "colab": {
      "name": "Problem 1 YouTube starter notebook: S Vishal",
      "provenance": [],
      "collapsed_sections": []
    },
    "kernelspec": {
      "name": "python3",
      "display_name": "Python 3"
    },
    "language_info": {
      "name": "python"
    }
  },
  "cells": [
    {
      "cell_type": "code",
      "metadata": {
        "id": "phgc3Gjl02wX"
      },
      "source": [
        ""
      ],
      "execution_count": null,
      "outputs": []
    },
    {
      "cell_type": "markdown",
      "metadata": {
        "id": "WXuhHGatRVNf"
      },
      "source": [
        "# What is the notebook about?\n",
        "\n",
        "## Problem - YouTube\n",
        "This problem deals with a Youtuber, having to employ someone to edit videos\n",
        "- Formulate the problem as an MDP \n",
        "- Use dynamic programming to find out the optimal policy and optimal values for each month \n",
        "- Visualize and explain the results\n",
        "\n",
        "## How to use this notebook? 📝\n",
        "\n",
        "- This is a shared template and any edits you make here will not be saved.**You\n",
        "should make a copy in your own drive**. Click the \"File\" menu (top-left), then \"Save a Copy in Drive\". You will be working in your copy however you like.\n",
        "\n",
        "- **Update the config parameters**. You can define the common variables here\n",
        "\n",
        "Variable | Description\n",
        "--- | ---\n",
        "`AICROWD_DATASET_PATH` | Path to the file containing test data. This should be an absolute path.\n",
        "`AICROWD_RESULTS_DIR` | Path to write the output to.\n",
        "`AICROWD_ASSETS_DIR` | In case your notebook needs additional files (like model weights, etc.,), you can add them to a directory and specify the path to the directory here (please specify relative path). The contents of this directory will be sent to AIcrowd for evaluation.\n",
        "`AICROWD_API_KEY` | In order to submit your code to AIcrowd, you need to provide your account's API key. This key is available at https://www.aicrowd.com/participants/me\n",
        "\n",
        "- **Installing packages**. Please use the [Install packages 🗃](#install-packages-) section to install the packages"
      ]
    },
    {
      "cell_type": "markdown",
      "metadata": {
        "id": "1gzlHU3wRQRj"
      },
      "source": [
        "# Setup AIcrowd Utilities 🛠\n",
        "\n",
        "We use this to bundle the files for submission and create a submission on AIcrowd. Do not edit this block."
      ]
    },
    {
      "cell_type": "code",
      "metadata": {
        "id": "FMKvhbEKiFH5",
        "colab": {
          "base_uri": "https://localhost:8080/"
        },
        "outputId": "fa29f496-a961-452c-dcf1-a82d36cb3cfe"
      },
      "source": [
        "!pip install -U aicrowd-cli > /dev/null "
      ],
      "execution_count": null,
      "outputs": [
        {
          "output_type": "stream",
          "name": "stdout",
          "text": [
            "\u001b[31mERROR: pip's dependency resolver does not currently take into account all the packages that are installed. This behaviour is the source of the following dependency conflicts.\n",
            "google-colab 1.0.0 requires requests~=2.23.0, but you have requests 2.26.0 which is incompatible.\n",
            "datascience 0.10.6 requires folium==0.2.1, but you have folium 0.8.3 which is incompatible.\u001b[0m\n"
          ]
        }
      ]
    },
    {
      "cell_type": "markdown",
      "metadata": {
        "id": "oJuQ_nzaRpp6"
      },
      "source": [
        "# AIcrowd Runtime Configuration 🧷\n",
        "\n",
        "Define configuration parameters."
      ]
    },
    {
      "cell_type": "code",
      "metadata": {
        "id": "uBKm1IuliJc7"
      },
      "source": [
        "import os\n",
        "\n",
        "AICROWD_DATASET_PATH = os.getenv(\"DATASET_PATH\", os.getcwd()+\"/61c5aa77-62c0-48c9-afef-96d618708b43_data_youtube.zip\")\n",
        "AICROWD_RESULTS_DIR = os.getenv(\"OUTPUTS_DIR\", \"results\")\n",
        "API_KEY = \"7e057d0030fa8b2556c46e257b516e0a\" # Get your key from https://www.aicrowd.com/participants/me (ctrl + click the link)"
      ],
      "execution_count": null,
      "outputs": []
    },
    {
      "cell_type": "code",
      "metadata": {
        "colab": {
          "base_uri": "https://localhost:8080/"
        },
        "id": "RQnfZ7VYidPC",
        "outputId": "45170111-cc5d-4d88-b27f-28bf086e4ab6"
      },
      "source": [
        "!aicrowd login --api-key $API_KEY\n",
        "!aicrowd dataset download -c rl-assignment-2-youtube"
      ],
      "execution_count": null,
      "outputs": [
        {
          "output_type": "stream",
          "name": "stdout",
          "text": [
            "\u001b[32mAPI Key valid\u001b[0m\n",
            "\u001b[32mSaved API Key successfully!\u001b[0m\n",
            "61c5aa77-62c0-48c9-afef-96d618708b43_data_youtube.zip: 100% 6.35k/6.35k [00:00<00:00, 248kB/s]\n"
          ]
        }
      ]
    },
    {
      "cell_type": "code",
      "metadata": {
        "id": "RHqevxIX_4fo",
        "colab": {
          "base_uri": "https://localhost:8080/"
        },
        "outputId": "5b2dc290-3183-47a3-d7d4-f89ee483f884"
      },
      "source": [
        "DATASET_DIR = 'data_youtube'\n",
        "!unzip $AICROWD_DATASET_PATH"
      ],
      "execution_count": null,
      "outputs": [
        {
          "output_type": "stream",
          "name": "stdout",
          "text": [
            "Archive:  /content/61c5aa77-62c0-48c9-afef-96d618708b43_data_youtube.zip\n",
            "   creating: data_youtube/\n",
            "   creating: data_youtube/targets/\n",
            "  inflating: data_youtube/targets/.DS_Store  \n",
            "  inflating: data_youtube/targets/targets_2.npy  \n",
            "  inflating: data_youtube/targets/targets_0.npy  \n",
            "  inflating: data_youtube/targets/targets_1.npy  \n",
            "  inflating: data_youtube/targets/targets_base.npy  \n",
            "   creating: data_youtube/inputs/\n",
            "  inflating: data_youtube/inputs/.DS_Store  \n",
            "  inflating: data_youtube/inputs/inputs_base.npy  \n",
            "  inflating: data_youtube/inputs/inputs_1.npy  \n",
            "  inflating: data_youtube/inputs/inputs_0.npy  \n",
            "  inflating: data_youtube/inputs/inputs_2.npy  \n"
          ]
        }
      ]
    },
    {
      "cell_type": "code",
      "metadata": {
        "id": "427YwCvdYhXJ"
      },
      "source": [
        ""
      ],
      "execution_count": null,
      "outputs": []
    },
    {
      "cell_type": "markdown",
      "metadata": {
        "id": "gTeWFlWukTob"
      },
      "source": [
        "# Install packages 🗃\n",
        "\n",
        "Please add all package installations in this section"
      ]
    },
    {
      "cell_type": "code",
      "metadata": {
        "id": "cusnfjYFRVNm"
      },
      "source": [
        ""
      ],
      "execution_count": null,
      "outputs": []
    },
    {
      "cell_type": "markdown",
      "metadata": {
        "id": "TxdOqsVGRXKg"
      },
      "source": [
        "# Import packages 💻"
      ]
    },
    {
      "cell_type": "code",
      "metadata": {
        "id": "lmhJUSs2Rjvh"
      },
      "source": [
        "import numpy as np\n",
        "import matplotlib.pyplot as plt \n",
        "import os\n",
        "# ADD ANY IMPORTS YOU WANT HERE\n"
      ],
      "execution_count": null,
      "outputs": []
    },
    {
      "cell_type": "markdown",
      "metadata": {
        "id": "vvT-9dmE06UV"
      },
      "source": [
        "# Prediction Phase"
      ]
    },
    {
      "cell_type": "code",
      "metadata": {
        "id": "qQ84mHWNOVRC"
      },
      "source": [
        "class YouTuberEnv:\n",
        "\n",
        "  def __init__(self,kwargs):\n",
        "    self._verify_params(kwargs)\n",
        "    self.low_salary = kwargs[\"low_salary\"]\n",
        "    self.high_salary = kwargs[\"high_salary\"]\n",
        "    self.low_quit_prob = kwargs[\"low_quit_prob\"]\n",
        "    self.high_quit_prob = kwargs[\"high_quit_prob\"]\n",
        "    self.self_edit_cost = kwargs[\"self_edit_cost\"]\n",
        "    self.low_add_cost = kwargs[\"low_add_cost\"]\n",
        "    self.high_add_cost = kwargs[\"high_add_cost\"]\n",
        "    self.low_add_success_prob = kwargs[\"low_add_success_prob\"]\n",
        "    self.high_add_success_prob = kwargs[\"high_add_success_prob\"]\n",
        "\n",
        "  def _verify_params(self,kwargs):\n",
        "    assert \"low_salary\" in kwargs, \"no param for low_salary\"\n",
        "    assert \"high_salary\" in kwargs, \"no param for high_salary\"\n",
        "    assert \"low_quit_prob\" in kwargs, \"no param for low_quit_prob\"\n",
        "    assert \"high_quit_prob\" in kwargs, \"no param for high_quit_prob\"\n",
        "    assert \"self_edit_cost\" in kwargs, \"no param for self_edit_cost\"\n",
        "    assert \"low_add_cost\" in kwargs, \"no param for low_add_cost\"\n",
        "    assert \"high_add_cost\" in kwargs, \"no param for high_add_cost\"\n",
        "    assert \"low_add_success_prob\" in kwargs, \"no param for low_add_success_prob\"\n",
        "    assert \"high_add_success_prob\" in kwargs, \"no param for high_add_success_prob\"\n"
      ],
      "execution_count": null,
      "outputs": []
    },
    {
      "cell_type": "code",
      "metadata": {
        "id": "xcPHMp8mOu9f"
      },
      "source": [
        "def MDP(env):\n",
        "\n",
        "  states = [0,1] ### DO NOT MODIFY\n",
        "  actions = []\n",
        "  rewards = []\n",
        "  probabilities = []\n",
        "  extra_info = {}\n",
        "  ####### INSERT YOUR CODE BELOW. DO NOT EDIT ABOVE THIS LINE ########\n",
        "  actions = ['H','L']\n",
        "  # H indicates high budget/high salary, L indicates low budget/low salary\n",
        "  \n",
        "  phigh = np.asfarray([[1-env.high_add_success_prob,env.high_add_success_prob],[env.high_quit_prob,1-env.high_quit_prob]])\n",
        "  plow = np.asfarray([[1-env.low_add_success_prob,env.low_add_success_prob],[env.low_quit_prob,1-env.low_quit_prob]])\n",
        "  probabilities = {'H':phigh,'L':plow}\n",
        "  # transition to 0 is the first element and transition to 1 is the next element\n",
        "\n",
        "  rH = np.asfarray([[env.high_add_cost+env.self_edit_cost,env.high_add_cost],[env.self_edit_cost,env.high_salary]])\n",
        "  rL = np.asfarray([[env.low_add_cost+env.self_edit_cost,env.low_add_cost],[env.self_edit_cost,env.low_salary]])\n",
        "  rewards = {'H':rH,'L':rL}\n",
        "  ####### DO NOT EDIT BELOW THIS LINE ########\n",
        "  mdp = {\n",
        "          \"states\":states,\n",
        "          \"actions\":actions,\n",
        "          \"rewards\":rewards,\n",
        "          \"probabilities\":probabilities\n",
        "         }\n",
        "  return mdp, extra_info"
      ],
      "execution_count": null,
      "outputs": []
    },
    {
      "cell_type": "code",
      "metadata": {
        "id": "gNhwzL24QRq-"
      },
      "source": [
        "def DP(mdp):\n",
        "  states = mdp[\"states\"]\n",
        "  actions = mdp[\"actions\"]\n",
        "  rewards = mdp[\"rewards\"]\n",
        "  probabilties = mdp[\"probabilities\"]\n",
        "\n",
        "  N = 12 # horizon for 1 year\n",
        "  n_states = len(states)\n",
        "  values = np.zeros((N+1, n_states))\n",
        "  policy = np.random.choice(['L','H'],  size = (N,n_states))\n",
        "  ### Note: Each value in policy should either be a 'H' or 'L'\n",
        "  ### Modify the contents of the above 'policy' array\n",
        "  extra_info = {}\n",
        "  ####### INSERT YOUR CODE BELOW. DO NOT EDIT ABOVE THIS LINE ########\n",
        "  pH = probabilties['H']\n",
        "  pL = probabilties['L']\n",
        "\n",
        "  rH = rewards['H']\n",
        "  rL = rewards['L']\n",
        "\n",
        "  Jstarprev = np.zeros(shape=(2,1),dtype='float')\n",
        "  Jcurrent =  np.zeros(shape=(2,2),dtype='float')\n",
        "  # Expected rewards from state 0\n",
        "  Jcurrent[0] = [np.dot(rH[0,:],(pH[0,:])),np.dot(rL[0,:],(pL[0,:]))] \n",
        "  # Expected rewards from state 1\n",
        "  Jcurrent[1] = [np.dot(rH[1,:],(pH[1,:])),np.dot(rL[1,:],(pL[1,:]))] \n",
        "\n",
        "  Jstarprev = Jcurrent.min(axis=1)\n",
        "  action = [int(Jcurrent[0,0]>Jcurrent[0,1]),int(Jcurrent[1,0]>Jcurrent[1,1])]\n",
        "  # action 0: 'H' action 1: 'L'\n",
        "  action_map = {0:'H',1:'L'}\n",
        "  policy[N-1,:] = [action_map[action[0]],action_map[action[1]]]\n",
        "  values[N-1,:] = Jstarprev\n",
        "  for i in range(1,N):\n",
        "    stage = N-i-1\n",
        "\n",
        "    Jcurrent[0] = [np.dot(rH[0,:]+Jstarprev,(pH[0,:])),np.dot(rL[0,:]+Jstarprev,(pL[0,:]))] \n",
        "    # Expected rewards from state 1\n",
        "    Jcurrent[1] = [np.dot(rH[1,:]+Jstarprev,(pH[1,:])),np.dot(rL[1,:]+Jstarprev,(pL[1,:]))] \n",
        "\n",
        "    Jstarprev = Jcurrent.min(axis=1)\n",
        "    action = [int(Jcurrent[0,0]>Jcurrent[0,1]),int(Jcurrent[1,0]>Jcurrent[1,1])]\n",
        "\n",
        "    policy[stage,:] = [action_map[action[0]],action_map[action[1]]]\n",
        "    values[stage,:] = Jstarprev\n",
        "\n",
        "\n",
        "  ####### DO NOT EDIT BELOW THIS LINE ########\n",
        "  result = {\n",
        "            \"Values\":values,\n",
        "            \"Policy\":policy\n",
        "  }\n",
        "  return result, extra_info\n"
      ],
      "execution_count": null,
      "outputs": []
    },
    {
      "cell_type": "code",
      "metadata": {
        "id": "SEGl2l_fTwzi"
      },
      "source": [
        "# DO NOT EDIT THIS CELL\n",
        "def verify_results(results):\n",
        "  assert \"Values\" in results\n",
        "  assert \"Policy\" in results\n",
        "  values = results[\"Values\"]\n",
        "  policy = results[\"Policy\"]\n",
        "  N=12\n",
        "  n_states = 2\n",
        "  assert np.shape(values) == (N+1,n_states)\n",
        "  assert np.shape(policy) == (N,n_states)\n",
        "  unique_values = set(np.unique(policy))\n",
        "  allowed_values = {'L','H'}\n",
        "  assert unique_values <= allowed_values\n",
        "\n",
        "def get_results(kwargs):\n",
        "  env = YouTuberEnv(kwargs)\n",
        "  mdp, mdp_info = MDP(env)\n",
        "  results, dp_info = DP(mdp)\n",
        "  verify_results(results)\n",
        "  return results, mdp_info, dp_info "
      ],
      "execution_count": null,
      "outputs": []
    },
    {
      "cell_type": "code",
      "metadata": {
        "id": "A-WXOqHTWvRn",
        "colab": {
          "base_uri": "https://localhost:8080/"
        },
        "outputId": "28d008ca-97e8-4eb4-be66-9929e42c27a1"
      },
      "source": [
        "def get_base_params():\n",
        "  params = {}\n",
        "  params[\"low_salary\"] = 2300\n",
        "  params[\"high_salary\"] = 3000\n",
        "  params[\"low_quit_prob\"] = 0.6\n",
        "  params[\"high_quit_prob\"] = 0.2\n",
        "  params[\"self_edit_cost\"] = 4000\n",
        "  params[\"low_add_cost\"] = 300\n",
        "  params[\"high_add_cost\"] = 600\n",
        "  params[\"low_add_success_prob\"] = 0.7\n",
        "  params[\"high_add_success_prob\"] = 0.9\n",
        "  return params\n",
        "\n",
        "\n",
        "base_params = get_base_params()\n",
        "results, mdp_info, dp_info = get_results(base_params)\n",
        "print(results)"
      ],
      "execution_count": null,
      "outputs": [
        {
          "output_type": "stream",
          "name": "stdout",
          "text": [
            "{'Values': array([[27704.19140625, 29250.5390625 ],\n",
            "       [25311.6171875 , 26858.921875  ],\n",
            "       [22920.765625  , 24466.15625   ],\n",
            "       [20526.46875   , 22075.6875    ],\n",
            "       [18139.0625    , 19680.625     ],\n",
            "       [15737.875     , 17294.75      ],\n",
            "       [13364.25      , 14890.5       ],\n",
            "       [10935.5       , 12523.        ],\n",
            "       [ 8617.        , 10082.        ],\n",
            "       [ 6078.        ,  7788.        ],\n",
            "       [ 3980.        ,  5200.        ],\n",
            "       [ 1000.        ,  3200.        ],\n",
            "       [    0.        ,     0.        ]]), 'Policy': array([['H', 'L'],\n",
            "       ['H', 'L'],\n",
            "       ['H', 'L'],\n",
            "       ['H', 'L'],\n",
            "       ['H', 'L'],\n",
            "       ['H', 'L'],\n",
            "       ['H', 'L'],\n",
            "       ['H', 'L'],\n",
            "       ['H', 'L'],\n",
            "       ['H', 'L'],\n",
            "       ['H', 'L'],\n",
            "       ['H', 'H']], dtype='<U1')}\n"
          ]
        }
      ]
    },
    {
      "cell_type": "code",
      "metadata": {
        "id": "adyKk7ZDF-bE"
      },
      "source": [
        ""
      ],
      "execution_count": null,
      "outputs": []
    },
    {
      "cell_type": "code",
      "metadata": {
        "id": "XeWbWg7w8IN_"
      },
      "source": [
        "if not os.path.exists(AICROWD_RESULTS_DIR):\n",
        "  os.mkdir(AICROWD_RESULTS_DIR)\n",
        "if not os.path.exists(DATASET_DIR+'/inputs'):\n",
        "  os.mkdir(DATASET_DIR+'/inputs')"
      ],
      "execution_count": null,
      "outputs": []
    },
    {
      "cell_type": "code",
      "metadata": {
        "id": "8INNJ97OGWTQ"
      },
      "source": [
        "# Do not edit this cell, generate results with it as is\n",
        "input_dir = os.path.join(DATASET_DIR, 'inputs')\n",
        "if not os.path.exists(AICROWD_RESULTS_DIR):\n",
        "    os.mkdir(AICROWD_RESULTS_DIR)\n",
        "\n",
        "for params_file in os.listdir(input_dir):\n",
        "  if \".npy\" not in params_file:\n",
        "    continue\n",
        "  kwargs = np.load(os.path.join(input_dir, params_file), allow_pickle=True).item()\n",
        "  results, mdp_info, dp_info = get_results(kwargs)\n",
        "  idx = params_file.split('_')[-1][:-4]\n",
        "  np.save(os.path.join(AICROWD_RESULTS_DIR, 'results_' + idx), results)"
      ],
      "execution_count": null,
      "outputs": []
    },
    {
      "cell_type": "code",
      "metadata": {
        "id": "3wpCvVagGbxV",
        "colab": {
          "base_uri": "https://localhost:8080/"
        },
        "outputId": "a1f1f1ce-ff4d-4bee-c956-7b051b935963"
      },
      "source": [
        "# Check your score on the given test cases (There are more private test cases not provided)\n",
        "result_folder = AICROWD_RESULTS_DIR\n",
        "target_folder = os.path.join(DATASET_DIR, 'targets')\n",
        "\n",
        "def check_algo_match(results, targets):\n",
        "    param_results = targets\n",
        "    param_targets = results\n",
        "\n",
        "    tv = param_targets['Values'].flatten('F')\n",
        "    rv_0 = param_results['Values'][:,0]\n",
        "    rv_1 = param_results['Values'][:,1]\n",
        "    rewards_match_0 = np.allclose(np.concatenate((rv_0, rv_1)), tv, atol=1e-1)\n",
        "\n",
        "\n",
        "    rv_0 = param_results['Values'][:,1]\n",
        "    rv_1 = param_results['Values'][:,0]\n",
        "    rewards_match_1 = np.allclose(np.concatenate((rv_0, rv_1)), tv, atol=1e-1)\n",
        "\n",
        "\n",
        "    tp = param_targets['Policy'].flatten('F')\n",
        "    rp_0 = param_results['Policy'][:,0]\n",
        "    rp_1 = param_results['Policy'][:,1]\n",
        "    policy_match_0 = np.concatenate((rp_0, rp_1)) == tp\n",
        "\n",
        "    rp_0 = param_results['Policy'][:,1]\n",
        "    rp_1 = param_results['Policy'][:,0]\n",
        "    policy_match_1 = np.concatenate((rp_0, rp_1)) == tp\n",
        "\n",
        "\n",
        "    equal = (rewards_match_0 and policy_match_0.all()) or (rewards_match_1 or policy_match_1.all())\n",
        "    return equal\n",
        "\n",
        "def check_score(target_folder, result_folder):\n",
        "    match = []\n",
        "    for out_file in os.listdir(result_folder):\n",
        "        res_file = os.path.join(result_folder, out_file)\n",
        "        results = np.load(res_file, allow_pickle=True).item()\n",
        "        idx = out_file.split('_')[-1][:-4]  # Extract the file number\n",
        "        target_file = os.path.join(target_folder, f\"targets_{idx}.npy\")\n",
        "        targets = np.load(target_file, allow_pickle=True)[0]\n",
        "        algo_results = results\n",
        "        algo_targets = targets\n",
        "        algo_match = check_algo_match(algo_results, algo_targets)\n",
        "        match.append(algo_match)\n",
        "    return np.mean(match)\n",
        "\n",
        "if os.path.exists(target_folder):\n",
        "    print(\"Shared data Score (normalized to 1):\", check_score(target_folder, result_folder))"
      ],
      "execution_count": null,
      "outputs": [
        {
          "output_type": "stream",
          "name": "stdout",
          "text": [
            "Shared data Score (normalized to 1): 1.0\n"
          ]
        }
      ]
    },
    {
      "cell_type": "markdown",
      "metadata": {
        "id": "0_sQAfL0m93z"
      },
      "source": [
        "## Answer the following\n"
      ]
    },
    {
      "cell_type": "markdown",
      "metadata": {
        "id": "nkMDqZZxnBOG"
      },
      "source": [
        "Consider a policy where you always pay the employee low income and allocate a high advertising budget. Is it optimal? Justify your answer. (Based on the data provided in the assignment question)\n"
      ]
    },
    {
      "cell_type": "markdown",
      "metadata": {
        "id": "PAf4gD9rnF2j"
      },
      "source": [
        "Your answer:\n",
        "From the dp algorithm results, we observe that the optimal policy for the final step is in fact $\\pi$(0) = 'H' & $\\pi$(1)= 'H' rather than $\\pi$(0) = 'H' & $\\pi$(1)= 'L' as recommended in this policy. Let's compare their costs. \n",
        "\n",
        "1. $\\pi$(1)= 'H' (dp algorithm)\n",
        "\n",
        "J(1) =  $p_{10}('H')*g(1,'H',0) + p_{11}('H')*g(1,'H',1) = 0.2*4000+0.8*3000 = 3200$\n",
        "2. $\\pi$(1)= 'L' (given recommendation)\n",
        "\n",
        "J(1) =  $p_{10}('L')*g(1,'L',0) + p_{11}('L')*g(1,'L',1) = 0.6*4000+0.4*3000 = 3600$\n",
        "Cost has increased!! (Also, we know that J* is unique and dp gives optimal cost)\n",
        "\n",
        "Thus, the given policy of $\\pi$(0) = 'H' $\\pi$(1)= 'L' is **not** the optimal policy. The optimal policy is paying the employee high income and allocating high advertising budget"
      ]
    },
    {
      "cell_type": "markdown",
      "metadata": {
        "id": "ha1wjD0w1LbK"
      },
      "source": [
        "# Submit to AIcrowd 🚀\n"
      ]
    },
    {
      "cell_type": "code",
      "metadata": {
        "id": "6pQlBkUlGduP",
        "colab": {
          "base_uri": "https://localhost:8080/"
        },
        "outputId": "cf87dc4c-1307-42aa-87f9-fb2db00f6b3e"
      },
      "source": [
        "!DATASET_PATH=$AICROWD_DATASET_PATH \\\n",
        "aicrowd notebook submit \\\n",
        "    -c rl-assignment-2-youtube -a assets \n"
      ],
      "execution_count": null,
      "outputs": [
        {
          "output_type": "stream",
          "name": "stdout",
          "text": [
            "WARNING: No assets directory at assets... Creating one...\n",
            "WARNING: Assets directory is empty\n",
            "/usr/local/lib/python3.7/dist-packages/aicrowd/notebook/helpers.py:361: UserWarning: `%aicrowd` magic command can be used to save the notebook inside jupyter notebook/jupyterLab environment and also to get the notebook directly from the frontend without mounting the drive in colab environment. You can use magic command to skip mounting the drive and submit using the code below:\n",
            " %load_ext aicrowd.magic\n",
            "%aicrowd notebook submit -c rl-assignment-2-youtube -a assets\n",
            "  warnings.warn(description + code)\n",
            "\u001b[1;34mMounting Google Drive 💾\u001b[0m\n",
            "Your Google Drive will be mounted to access the colab notebook\n",
            "Go to this URL in a browser: https://accounts.google.com/o/oauth2/auth?client_id=947318989803-6bn6qk8qdgf4n4g3pfee6491hc0brc4i.apps.googleusercontent.com&redirect_uri=urn%3aietf%3awg%3aoauth%3a2.0%3aoob&scope=email%20https%3a%2f%2fwww.googleapis.com%2fauth%2fdocs.test%20https%3a%2f%2fwww.googleapis.com%2fauth%2fdrive%20https%3a%2f%2fwww.googleapis.com%2fauth%2fdrive.photos.readonly%20https%3a%2f%2fwww.googleapis.com%2fauth%2fpeopleapi.readonly%20https%3a%2f%2fwww.googleapis.com%2fauth%2fdrive.activity.readonly%20https%3a%2f%2fwww.googleapis.com%2fauth%2fexperimentsandconfigs%20https%3a%2f%2fwww.googleapis.com%2fauth%2fphotos.native&response_type=code\n",
            "\n",
            "Enter your authorization code:\n",
            "4/1AX4XfWi1VFQUd1EJVGGbUhYbG-rdsyHaZnGuCeh1st4nkv8g4XRmUhCTrLk\n",
            "Mounted at /content/drive\n",
            "Using notebook: Problem 1 YouTube starter notebook: S Vishal for submission...\n",
            "Scrubbing API keys from the notebook...\n",
            "Collecting notebook...\n",
            "Validating the submission...\n",
            "Executing install.ipynb...\n",
            "[NbConvertApp] Converting notebook /content/submission/install.ipynb to notebook\n",
            "[NbConvertApp] Executing notebook with kernel: python3\n",
            "[NbConvertApp] Writing 1124 bytes to /content/submission/install.nbconvert.ipynb\n",
            "Executing predict.ipynb...\n",
            "[NbConvertApp] Converting notebook /content/submission/predict.ipynb to notebook\n",
            "[NbConvertApp] Executing notebook with kernel: python3\n",
            "[NbConvertApp] ERROR | unhandled iopub msg: colab_request\n",
            "[NbConvertApp] ERROR | unhandled iopub msg: colab_request\n",
            "[NbConvertApp] ERROR | unhandled iopub msg: colab_request\n",
            "[NbConvertApp] ERROR | unhandled iopub msg: colab_request\n",
            "[NbConvertApp] ERROR | unhandled iopub msg: colab_request\n",
            "[NbConvertApp] ERROR | unhandled iopub msg: colab_request\n",
            "[NbConvertApp] Writing 23906 bytes to /content/submission/predict.nbconvert.ipynb\n",
            "\u001b[2K\u001b[1;34msubmission.zip\u001b[0m \u001b[90m━━━━━━━━━━━━━━━━━━━━━━\u001b[0m \u001b[35m100.0%\u001b[0m • \u001b[32m21.3/19.6 KB\u001b[0m • \u001b[31m1.9 MB/s\u001b[0m • \u001b[36m0:00:00\u001b[0m\n",
            "\u001b[?25h                                                           ╭─────────────────────────╮                                                            \n",
            "                                                           │ \u001b[1mSuccessfully submitted!\u001b[0m │                                                            \n",
            "                                                           ╰─────────────────────────╯                                                            \n",
            "\u001b[3m                                                                 Important links                                                                  \u001b[0m\n",
            "┌──────────────────┬─────────────────────────────────────────────────────────────────────────────────────────────────────────────────────────────┐\n",
            "│  This submission │ https://www.aicrowd.com/challenges/iit-m-2021-assignment-2/problems/rl-assignment-2-youtube/submissions/160465              │\n",
            "│                  │                                                                                                                             │\n",
            "│  All submissions │ https://www.aicrowd.com/challenges/iit-m-2021-assignment-2/problems/rl-assignment-2-youtube/submissions?my_submissions=true │\n",
            "│                  │                                                                                                                             │\n",
            "│      Leaderboard │ https://www.aicrowd.com/challenges/iit-m-2021-assignment-2/problems/rl-assignment-2-youtube/leaderboards                    │\n",
            "│                  │                                                                                                                             │\n",
            "│ Discussion forum │ https://discourse.aicrowd.com/c/iit-m-2021-assignment-2                                                                     │\n",
            "│                  │                                                                                                                             │\n",
            "│   Challenge page │ https://www.aicrowd.com/challenges/iit-m-2021-assignment-2/problems/rl-assignment-2-youtube                                 │\n",
            "└──────────────────┴─────────────────────────────────────────────────────────────────────────────────────────────────────────────────────────────┘\n"
          ]
        }
      ]
    },
    {
      "cell_type": "code",
      "metadata": {
        "id": "9opYJkCESann"
      },
      "source": [
        ""
      ],
      "execution_count": null,
      "outputs": []
    }
  ]
}